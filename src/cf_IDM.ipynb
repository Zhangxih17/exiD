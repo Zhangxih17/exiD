{
 "cells": [
  {
   "cell_type": "code",
   "execution_count": null,
   "metadata": {},
   "outputs": [],
   "source": []
  },
  {
   "cell_type": "markdown",
   "metadata": {},
   "source": [
    "## 交通流模型   "
   ]
  },
  {
   "cell_type": "markdown",
   "metadata": {},
   "source": [
    "传统跟驰模型校正 \n",
    "\n",
    "参考：\n",
    "https://github.com/iyangli/Car-following-Model-Calibration/blob/main/Code/IDM%2CFVD.py\n",
    "\n",
    "数据集：exiD"
   ]
  },
  {
   "cell_type": "code",
   "execution_count": null,
   "metadata": {},
   "outputs": [],
   "source": []
  },
  {
   "cell_type": "markdown",
   "metadata": {},
   "source": [
    "### 导入"
   ]
  },
  {
   "cell_type": "code",
   "execution_count": 1,
   "metadata": {},
   "outputs": [],
   "source": [
    "import numpy as np\n",
    "from sko.GA import GA, GA_TSP\n",
    "import pandas as pd\n",
    "import  pandas  as pd\n",
    "from  pandas import  DataFrame as df\n",
    "import numpy as np\n",
    "# import skfuzzy as fuzz\n",
    "# from skfuzzy import control as ctrl\n",
    "import matplotlib.pyplot as plt\n",
    "import math\n",
    "import os\n",
    "import sys"
   ]
  },
  {
   "cell_type": "code",
   "execution_count": 3,
   "metadata": {},
   "outputs": [
    {
     "ename": "NameError",
     "evalue": "name '__file__' is not defined",
     "output_type": "error",
     "traceback": [
      "\u001b[1;31m---------------------------------------------------------------------------\u001b[0m",
      "\u001b[1;31mNameError\u001b[0m                                 Traceback (most recent call last)",
      "\u001b[1;32m~\\AppData\\Local\\Temp\\ipykernel_149280\\3861028362.py\u001b[0m in \u001b[0;36m<module>\u001b[1;34m\u001b[0m\n\u001b[1;32m----> 1\u001b[1;33m \u001b[0mos\u001b[0m\u001b[1;33m.\u001b[0m\u001b[0mpath\u001b[0m\u001b[1;33m.\u001b[0m\u001b[0mdirname\u001b[0m\u001b[1;33m(\u001b[0m\u001b[0mos\u001b[0m\u001b[1;33m.\u001b[0m\u001b[0mpath\u001b[0m\u001b[1;33m.\u001b[0m\u001b[0mabspath\u001b[0m\u001b[1;33m(\u001b[0m\u001b[0m__file__\u001b[0m\u001b[1;33m)\u001b[0m\u001b[1;33m)\u001b[0m\u001b[1;33m\u001b[0m\u001b[1;33m\u001b[0m\u001b[0m\n\u001b[0m",
      "\u001b[1;31mNameError\u001b[0m: name '__file__' is not defined"
     ]
    }
   ],
   "source": [
    "os.path.dirname(os.path.abspath(__file__))"
   ]
  },
  {
   "cell_type": "code",
   "execution_count": null,
   "metadata": {},
   "outputs": [],
   "source": []
  },
  {
   "cell_type": "code",
   "execution_count": null,
   "metadata": {},
   "outputs": [],
   "source": []
  },
  {
   "cell_type": "markdown",
   "metadata": {},
   "source": [
    "### 跟驰数据\n",
    "数据切片 & 提取"
   ]
  },
  {
   "cell_type": "code",
   "execution_count": 31,
   "metadata": {},
   "outputs": [
    {
     "name": "stderr",
     "output_type": "stream",
     "text": [
      "d:\\ProgramData\\Anaconda3\\envs\\python3\\envs\\py37\\lib\\site-packages\\IPython\\core\\interactiveshell.py:3553: DtypeWarning: Columns (32) have mixed types.Specify dtype option on import or set low_memory=False.\n",
      "  exec(code_obj, self.user_global_ns, self.user_ns)\n"
     ]
    },
    {
     "data": {
      "text/html": [
       "<div>\n",
       "<style scoped>\n",
       "    .dataframe tbody tr th:only-of-type {\n",
       "        vertical-align: middle;\n",
       "    }\n",
       "\n",
       "    .dataframe tbody tr th {\n",
       "        vertical-align: top;\n",
       "    }\n",
       "\n",
       "    .dataframe thead th {\n",
       "        text-align: right;\n",
       "    }\n",
       "</style>\n",
       "<table border=\"1\" class=\"dataframe\">\n",
       "  <thead>\n",
       "    <tr style=\"text-align: right;\">\n",
       "      <th></th>\n",
       "      <th>trackId</th>\n",
       "      <th>frame</th>\n",
       "      <th>xCenter</th>\n",
       "      <th>yCenter</th>\n",
       "      <th>lonVelocity</th>\n",
       "      <th>latVelocity</th>\n",
       "      <th>lonAcceleration</th>\n",
       "      <th>lonLaneletPos</th>\n",
       "      <th>leadId</th>\n",
       "      <th>leadDHW</th>\n",
       "      <th>xCenter_lead</th>\n",
       "      <th>yCenter_lead</th>\n",
       "      <th>lonVelocity_lead</th>\n",
       "      <th>latVelocity_lead</th>\n",
       "      <th>lonAcceleration_lead</th>\n",
       "      <th>lonLaneletPos_lead</th>\n",
       "    </tr>\n",
       "  </thead>\n",
       "  <tbody>\n",
       "    <tr>\n",
       "      <th>205</th>\n",
       "      <td>3</td>\n",
       "      <td>0</td>\n",
       "      <td>403.8263</td>\n",
       "      <td>-230.0390</td>\n",
       "      <td>31.2677</td>\n",
       "      <td>-0.0</td>\n",
       "      <td>0.4521</td>\n",
       "      <td>5.72</td>\n",
       "      <td>0</td>\n",
       "      <td>33.64</td>\n",
       "      <td>380.7679</td>\n",
       "      <td>-200.3428</td>\n",
       "      <td>31.9832</td>\n",
       "      <td>-0.0</td>\n",
       "      <td>0.3884</td>\n",
       "      <td>43.32</td>\n",
       "    </tr>\n",
       "    <tr>\n",
       "      <th>206</th>\n",
       "      <td>3</td>\n",
       "      <td>1</td>\n",
       "      <td>403.0660</td>\n",
       "      <td>-229.0478</td>\n",
       "      <td>31.2873</td>\n",
       "      <td>-0.0</td>\n",
       "      <td>0.4519</td>\n",
       "      <td>6.97</td>\n",
       "      <td>0</td>\n",
       "      <td>33.67</td>\n",
       "      <td>379.9906</td>\n",
       "      <td>-199.3281</td>\n",
       "      <td>32.0047</td>\n",
       "      <td>-0.0</td>\n",
       "      <td>0.3846</td>\n",
       "      <td>44.60</td>\n",
       "    </tr>\n",
       "    <tr>\n",
       "      <th>207</th>\n",
       "      <td>3</td>\n",
       "      <td>2</td>\n",
       "      <td>402.3050</td>\n",
       "      <td>-228.0557</td>\n",
       "      <td>31.3076</td>\n",
       "      <td>-0.0</td>\n",
       "      <td>0.4510</td>\n",
       "      <td>8.22</td>\n",
       "      <td>0</td>\n",
       "      <td>33.70</td>\n",
       "      <td>379.2125</td>\n",
       "      <td>-198.3121</td>\n",
       "      <td>32.0264</td>\n",
       "      <td>-0.0</td>\n",
       "      <td>0.3782</td>\n",
       "      <td>45.88</td>\n",
       "    </tr>\n",
       "    <tr>\n",
       "      <th>208</th>\n",
       "      <td>3</td>\n",
       "      <td>3</td>\n",
       "      <td>401.5434</td>\n",
       "      <td>-227.0626</td>\n",
       "      <td>31.3283</td>\n",
       "      <td>-0.0</td>\n",
       "      <td>0.4491</td>\n",
       "      <td>9.47</td>\n",
       "      <td>0</td>\n",
       "      <td>33.73</td>\n",
       "      <td>378.4335</td>\n",
       "      <td>-197.2947</td>\n",
       "      <td>32.0478</td>\n",
       "      <td>-0.0</td>\n",
       "      <td>0.3694</td>\n",
       "      <td>47.16</td>\n",
       "    </tr>\n",
       "    <tr>\n",
       "      <th>209</th>\n",
       "      <td>3</td>\n",
       "      <td>4</td>\n",
       "      <td>400.7812</td>\n",
       "      <td>-226.0685</td>\n",
       "      <td>31.3493</td>\n",
       "      <td>-0.0</td>\n",
       "      <td>0.4460</td>\n",
       "      <td>10.73</td>\n",
       "      <td>0</td>\n",
       "      <td>33.76</td>\n",
       "      <td>377.6538</td>\n",
       "      <td>-196.2763</td>\n",
       "      <td>32.0687</td>\n",
       "      <td>-0.0</td>\n",
       "      <td>0.3581</td>\n",
       "      <td>48.44</td>\n",
       "    </tr>\n",
       "  </tbody>\n",
       "</table>\n",
       "</div>"
      ],
      "text/plain": [
       "     trackId  frame   xCenter   yCenter  lonVelocity  latVelocity  \\\n",
       "205        3      0  403.8263 -230.0390      31.2677         -0.0   \n",
       "206        3      1  403.0660 -229.0478      31.2873         -0.0   \n",
       "207        3      2  402.3050 -228.0557      31.3076         -0.0   \n",
       "208        3      3  401.5434 -227.0626      31.3283         -0.0   \n",
       "209        3      4  400.7812 -226.0685      31.3493         -0.0   \n",
       "\n",
       "     lonAcceleration lonLaneletPos  leadId  leadDHW  xCenter_lead  \\\n",
       "205           0.4521          5.72       0    33.64      380.7679   \n",
       "206           0.4519          6.97       0    33.67      379.9906   \n",
       "207           0.4510          8.22       0    33.70      379.2125   \n",
       "208           0.4491          9.47       0    33.73      378.4335   \n",
       "209           0.4460         10.73       0    33.76      377.6538   \n",
       "\n",
       "     yCenter_lead  lonVelocity_lead  latVelocity_lead  lonAcceleration_lead  \\\n",
       "205     -200.3428           31.9832              -0.0                0.3884   \n",
       "206     -199.3281           32.0047              -0.0                0.3846   \n",
       "207     -198.3121           32.0264              -0.0                0.3782   \n",
       "208     -197.2947           32.0478              -0.0                0.3694   \n",
       "209     -196.2763           32.0687              -0.0                0.3581   \n",
       "\n",
       "    lonLaneletPos_lead  \n",
       "205              43.32  \n",
       "206              44.60  \n",
       "207              45.88  \n",
       "208              47.16  \n",
       "209              48.44  "
      ]
     },
     "execution_count": 31,
     "metadata": {},
     "output_type": "execute_result"
    }
   ],
   "source": [
    "# 读取数据\n",
    "total_data=pd.read_csv(\"D:/Desktop/开题/code/exiD/data/00_tracks.csv\")\n",
    "data=df(total_data[['trackId', 'frame', 'xCenter', 'yCenter', 'lonVelocity', 'latVelocity', 'lonAcceleration', 'lonLaneletPos', 'leadId', 'leadDHW']])\n",
    "del total_data\n",
    "# data.head()\n",
    "\n",
    "#拼接跟驰车组\n",
    "data = pd.merge(data, data, left_on=['leadId', 'frame'], right_on=['trackId', 'frame'], how='left', suffixes=('', '_lead'))\n",
    "#删除NA行\n",
    "data=data.dropna(axis=0, how='any')\n",
    "del data['trackId_lead']\n",
    "del data['leadId_lead']\n",
    "del data['leadDHW_lead']\n",
    "data.head()\n"
   ]
  },
  {
   "cell_type": "code",
   "execution_count": 52,
   "metadata": {},
   "outputs": [],
   "source": [
    "#换道数据清洗\n",
    "data['lonLaneletPos'] = data['lonLaneletPos'].apply(lambda x: x.split(';')[0])\n",
    "data['lonLaneletPos_lead'] = data['lonLaneletPos_lead'].apply(lambda x: x.split(';')[0])\n",
    "data['lonLaneletPos'] = data['lonLaneletPos'].astype('float64')\n",
    "data['lonLaneletPos_lead'] = data['lonLaneletPos_lead'].astype('float64')"
   ]
  },
  {
   "cell_type": "code",
   "execution_count": 53,
   "metadata": {},
   "outputs": [
    {
     "data": {
      "text/html": [
       "<div>\n",
       "<style scoped>\n",
       "    .dataframe tbody tr th:only-of-type {\n",
       "        vertical-align: middle;\n",
       "    }\n",
       "\n",
       "    .dataframe tbody tr th {\n",
       "        vertical-align: top;\n",
       "    }\n",
       "\n",
       "    .dataframe thead th {\n",
       "        text-align: right;\n",
       "    }\n",
       "</style>\n",
       "<table border=\"1\" class=\"dataframe\">\n",
       "  <thead>\n",
       "    <tr style=\"text-align: right;\">\n",
       "      <th></th>\n",
       "      <th>trackId</th>\n",
       "      <th>frame</th>\n",
       "      <th>xCenter</th>\n",
       "      <th>yCenter</th>\n",
       "      <th>lonVelocity</th>\n",
       "      <th>latVelocity</th>\n",
       "      <th>lonAcceleration</th>\n",
       "      <th>lonLaneletPos</th>\n",
       "      <th>leadId</th>\n",
       "      <th>leadDHW</th>\n",
       "      <th>xCenter_lead</th>\n",
       "      <th>yCenter_lead</th>\n",
       "      <th>lonVelocity_lead</th>\n",
       "      <th>latVelocity_lead</th>\n",
       "      <th>lonAcceleration_lead</th>\n",
       "      <th>lonLaneletPos_lead</th>\n",
       "    </tr>\n",
       "  </thead>\n",
       "  <tbody>\n",
       "    <tr>\n",
       "      <th>205</th>\n",
       "      <td>3</td>\n",
       "      <td>0</td>\n",
       "      <td>403.8263</td>\n",
       "      <td>-230.0390</td>\n",
       "      <td>31.2677</td>\n",
       "      <td>-0.0</td>\n",
       "      <td>0.4521</td>\n",
       "      <td>5.72</td>\n",
       "      <td>0</td>\n",
       "      <td>33.64</td>\n",
       "      <td>380.7679</td>\n",
       "      <td>-200.3428</td>\n",
       "      <td>31.9832</td>\n",
       "      <td>-0.0</td>\n",
       "      <td>0.3884</td>\n",
       "      <td>43.32</td>\n",
       "    </tr>\n",
       "    <tr>\n",
       "      <th>206</th>\n",
       "      <td>3</td>\n",
       "      <td>1</td>\n",
       "      <td>403.0660</td>\n",
       "      <td>-229.0478</td>\n",
       "      <td>31.2873</td>\n",
       "      <td>-0.0</td>\n",
       "      <td>0.4519</td>\n",
       "      <td>6.97</td>\n",
       "      <td>0</td>\n",
       "      <td>33.67</td>\n",
       "      <td>379.9906</td>\n",
       "      <td>-199.3281</td>\n",
       "      <td>32.0047</td>\n",
       "      <td>-0.0</td>\n",
       "      <td>0.3846</td>\n",
       "      <td>44.60</td>\n",
       "    </tr>\n",
       "    <tr>\n",
       "      <th>207</th>\n",
       "      <td>3</td>\n",
       "      <td>2</td>\n",
       "      <td>402.3050</td>\n",
       "      <td>-228.0557</td>\n",
       "      <td>31.3076</td>\n",
       "      <td>-0.0</td>\n",
       "      <td>0.4510</td>\n",
       "      <td>8.22</td>\n",
       "      <td>0</td>\n",
       "      <td>33.70</td>\n",
       "      <td>379.2125</td>\n",
       "      <td>-198.3121</td>\n",
       "      <td>32.0264</td>\n",
       "      <td>-0.0</td>\n",
       "      <td>0.3782</td>\n",
       "      <td>45.88</td>\n",
       "    </tr>\n",
       "    <tr>\n",
       "      <th>208</th>\n",
       "      <td>3</td>\n",
       "      <td>3</td>\n",
       "      <td>401.5434</td>\n",
       "      <td>-227.0626</td>\n",
       "      <td>31.3283</td>\n",
       "      <td>-0.0</td>\n",
       "      <td>0.4491</td>\n",
       "      <td>9.47</td>\n",
       "      <td>0</td>\n",
       "      <td>33.73</td>\n",
       "      <td>378.4335</td>\n",
       "      <td>-197.2947</td>\n",
       "      <td>32.0478</td>\n",
       "      <td>-0.0</td>\n",
       "      <td>0.3694</td>\n",
       "      <td>47.16</td>\n",
       "    </tr>\n",
       "    <tr>\n",
       "      <th>209</th>\n",
       "      <td>3</td>\n",
       "      <td>4</td>\n",
       "      <td>400.7812</td>\n",
       "      <td>-226.0685</td>\n",
       "      <td>31.3493</td>\n",
       "      <td>-0.0</td>\n",
       "      <td>0.4460</td>\n",
       "      <td>10.73</td>\n",
       "      <td>0</td>\n",
       "      <td>33.76</td>\n",
       "      <td>377.6538</td>\n",
       "      <td>-196.2763</td>\n",
       "      <td>32.0687</td>\n",
       "      <td>-0.0</td>\n",
       "      <td>0.3581</td>\n",
       "      <td>48.44</td>\n",
       "    </tr>\n",
       "  </tbody>\n",
       "</table>\n",
       "</div>"
      ],
      "text/plain": [
       "     trackId  frame   xCenter   yCenter  lonVelocity  latVelocity  \\\n",
       "205        3      0  403.8263 -230.0390      31.2677         -0.0   \n",
       "206        3      1  403.0660 -229.0478      31.2873         -0.0   \n",
       "207        3      2  402.3050 -228.0557      31.3076         -0.0   \n",
       "208        3      3  401.5434 -227.0626      31.3283         -0.0   \n",
       "209        3      4  400.7812 -226.0685      31.3493         -0.0   \n",
       "\n",
       "     lonAcceleration  lonLaneletPos  leadId  leadDHW  xCenter_lead  \\\n",
       "205           0.4521           5.72       0    33.64      380.7679   \n",
       "206           0.4519           6.97       0    33.67      379.9906   \n",
       "207           0.4510           8.22       0    33.70      379.2125   \n",
       "208           0.4491           9.47       0    33.73      378.4335   \n",
       "209           0.4460          10.73       0    33.76      377.6538   \n",
       "\n",
       "     yCenter_lead  lonVelocity_lead  latVelocity_lead  lonAcceleration_lead  \\\n",
       "205     -200.3428           31.9832              -0.0                0.3884   \n",
       "206     -199.3281           32.0047              -0.0                0.3846   \n",
       "207     -198.3121           32.0264              -0.0                0.3782   \n",
       "208     -197.2947           32.0478              -0.0                0.3694   \n",
       "209     -196.2763           32.0687              -0.0                0.3581   \n",
       "\n",
       "     lonLaneletPos_lead  \n",
       "205               43.32  \n",
       "206               44.60  \n",
       "207               45.88  \n",
       "208               47.16  \n",
       "209               48.44  "
      ]
     },
     "execution_count": 53,
     "metadata": {},
     "output_type": "execute_result"
    }
   ],
   "source": [
    "data.head()"
   ]
  },
  {
   "cell_type": "code",
   "execution_count": null,
   "metadata": {},
   "outputs": [],
   "source": []
  },
  {
   "cell_type": "markdown",
   "metadata": {},
   "source": [
    "### 地图"
   ]
  },
  {
   "cell_type": "code",
   "execution_count": null,
   "metadata": {},
   "outputs": [],
   "source": [
    "# total_data=pd.read_csv(\"D:/Desktop/开题/code/exiD/data/00_tracks.csv\")\n",
    "# data=df(total_data[['laneletId', 'laneWidth', 'latLaneCenterOffset', 'laneletLength','odrRoadId', 'odrLaneId']])\n",
    "# del total_data\n",
    "# data.head()"
   ]
  },
  {
   "cell_type": "markdown",
   "metadata": {},
   "source": [
    "#### osm\n",
    "osm文件中提取 way 中的 node"
   ]
  },
  {
   "cell_type": "code",
   "execution_count": 14,
   "metadata": {},
   "outputs": [
    {
     "name": "stdout",
     "output_type": "stream",
     "text": [
      "Requirement already satisfied: osmnx in d:\\programdata\\anaconda3\\envs\\python3\\envs\\py37\\lib\\site-packages (1.1.2)\n",
      "Requirement already satisfied: geopandas>=0.10 in d:\\programdata\\anaconda3\\envs\\python3\\envs\\py37\\lib\\site-packages (from osmnx) (0.10.2)\n",
      "Requirement already satisfied: matplotlib>=3.4 in d:\\programdata\\anaconda3\\envs\\python3\\envs\\py37\\lib\\site-packages (from osmnx) (3.5.3)\n",
      "Requirement already satisfied: networkx>=2.6 in d:\\programdata\\anaconda3\\envs\\python3\\envs\\py37\\lib\\site-packages (from osmnx) (2.6.3)\n",
      "Requirement already satisfied: numpy>=1.21 in d:\\programdata\\anaconda3\\envs\\python3\\envs\\py37\\lib\\site-packages (from osmnx) (1.21.6)\n",
      "Requirement already satisfied: pandas>=1.3 in d:\\programdata\\anaconda3\\envs\\python3\\envs\\py37\\lib\\site-packages (from osmnx) (1.3.5)\n",
      "Requirement already satisfied: pyproj>=3.2 in d:\\programdata\\anaconda3\\envs\\python3\\envs\\py37\\lib\\site-packages (from osmnx) (3.2.1)\n",
      "Requirement already satisfied: requests>=2.26 in d:\\programdata\\anaconda3\\envs\\python3\\envs\\py37\\lib\\site-packages (from osmnx) (2.28.2)\n",
      "Requirement already satisfied: Rtree>=0.9 in d:\\programdata\\anaconda3\\envs\\python3\\envs\\py37\\lib\\site-packages (from osmnx) (1.0.1)\n",
      "Requirement already satisfied: Shapely<2.0,>=1.7 in d:\\programdata\\anaconda3\\envs\\python3\\envs\\py37\\lib\\site-packages (from osmnx) (1.8.5.post1)\n",
      "Requirement already satisfied: fiona>=1.8 in d:\\programdata\\anaconda3\\envs\\python3\\envs\\py37\\lib\\site-packages (from geopandas>=0.10->osmnx) (1.9.4.post1)\n",
      "Requirement already satisfied: cycler>=0.10 in d:\\programdata\\anaconda3\\envs\\python3\\envs\\py37\\lib\\site-packages (from matplotlib>=3.4->osmnx) (0.11.0)\n",
      "Requirement already satisfied: fonttools>=4.22.0 in d:\\programdata\\anaconda3\\envs\\python3\\envs\\py37\\lib\\site-packages (from matplotlib>=3.4->osmnx) (4.38.0)\n",
      "Requirement already satisfied: kiwisolver>=1.0.1 in d:\\programdata\\anaconda3\\envs\\python3\\envs\\py37\\lib\\site-packages (from matplotlib>=3.4->osmnx) (1.4.4)\n",
      "Requirement already satisfied: packaging>=20.0 in d:\\programdata\\anaconda3\\envs\\python3\\envs\\py37\\lib\\site-packages (from matplotlib>=3.4->osmnx) (22.0)\n",
      "Requirement already satisfied: pillow>=6.2.0 in d:\\programdata\\anaconda3\\envs\\python3\\envs\\py37\\lib\\site-packages (from matplotlib>=3.4->osmnx) (9.3.0)\n",
      "Requirement already satisfied: pyparsing>=2.2.1 in d:\\programdata\\anaconda3\\envs\\python3\\envs\\py37\\lib\\site-packages (from matplotlib>=3.4->osmnx) (3.0.9)\n",
      "Requirement already satisfied: python-dateutil>=2.7 in d:\\programdata\\anaconda3\\envs\\python3\\envs\\py37\\lib\\site-packages (from matplotlib>=3.4->osmnx) (2.8.2)\n",
      "Requirement already satisfied: pytz>=2017.3 in d:\\programdata\\anaconda3\\envs\\python3\\envs\\py37\\lib\\site-packages (from pandas>=1.3->osmnx) (2022.7)\n",
      "Requirement already satisfied: certifi in d:\\programdata\\anaconda3\\envs\\python3\\envs\\py37\\lib\\site-packages (from pyproj>=3.2->osmnx) (2022.9.24)\n",
      "Requirement already satisfied: charset-normalizer<4,>=2 in d:\\programdata\\anaconda3\\envs\\python3\\envs\\py37\\lib\\site-packages (from requests>=2.26->osmnx) (3.1.0)\n",
      "Requirement already satisfied: idna<4,>=2.5 in d:\\programdata\\anaconda3\\envs\\python3\\envs\\py37\\lib\\site-packages (from requests>=2.26->osmnx) (3.4)\n",
      "Requirement already satisfied: urllib3<1.27,>=1.21.1 in d:\\programdata\\anaconda3\\envs\\python3\\envs\\py37\\lib\\site-packages (from requests>=2.26->osmnx) (1.26.15)\n",
      "Requirement already satisfied: typing-extensions>=3.7 in d:\\programdata\\anaconda3\\envs\\python3\\envs\\py37\\lib\\site-packages (from Rtree>=0.9->osmnx) (4.4.0)\n",
      "Requirement already satisfied: attrs>=19.2.0 in d:\\programdata\\anaconda3\\envs\\python3\\envs\\py37\\lib\\site-packages (from fiona>=1.8->geopandas>=0.10->osmnx) (22.2.0)\n",
      "Requirement already satisfied: click~=8.0 in d:\\programdata\\anaconda3\\envs\\python3\\envs\\py37\\lib\\site-packages (from fiona>=1.8->geopandas>=0.10->osmnx) (8.1.3)\n",
      "Requirement already satisfied: click-plugins>=1.0 in d:\\programdata\\anaconda3\\envs\\python3\\envs\\py37\\lib\\site-packages (from fiona>=1.8->geopandas>=0.10->osmnx) (1.1.1)\n",
      "Requirement already satisfied: cligj>=0.5 in d:\\programdata\\anaconda3\\envs\\python3\\envs\\py37\\lib\\site-packages (from fiona>=1.8->geopandas>=0.10->osmnx) (0.7.2)\n",
      "Requirement already satisfied: six in d:\\programdata\\anaconda3\\envs\\python3\\envs\\py37\\lib\\site-packages (from fiona>=1.8->geopandas>=0.10->osmnx) (1.16.0)\n",
      "Requirement already satisfied: importlib-metadata in d:\\programdata\\anaconda3\\envs\\python3\\envs\\py37\\lib\\site-packages (from fiona>=1.8->geopandas>=0.10->osmnx) (5.2.0)\n",
      "Requirement already satisfied: colorama in d:\\programdata\\anaconda3\\envs\\python3\\envs\\py37\\lib\\site-packages (from click~=8.0->fiona>=1.8->geopandas>=0.10->osmnx) (0.4.6)\n",
      "Requirement already satisfied: zipp>=0.5 in d:\\programdata\\anaconda3\\envs\\python3\\envs\\py37\\lib\\site-packages (from importlib-metadata->fiona>=1.8->geopandas>=0.10->osmnx) (3.11.0)\n"
     ]
    }
   ],
   "source": [
    "!pip install osmnx"
   ]
  },
  {
   "cell_type": "code",
   "execution_count": null,
   "metadata": {},
   "outputs": [],
   "source": []
  },
  {
   "cell_type": "markdown",
   "metadata": {},
   "source": [
    "osmnx"
   ]
  },
  {
   "cell_type": "code",
   "execution_count": 1,
   "metadata": {},
   "outputs": [
    {
     "name": "stdout",
     "output_type": "stream",
     "text": [
      "Looking in indexes: https://pypi.tuna.tsinghua.edu.cn/simple\n",
      "Collecting pyzmq==19.0.2\n",
      "  Downloading https://pypi.tuna.tsinghua.edu.cn/packages/30/81/09e2590445eab1bc80836b56e329783c487b79db8122326156bd35ad86df/pyzmq-19.0.2-cp37-cp37m-win_amd64.whl (1.0 MB)\n",
      "     ---------------------------------------- 1.0/1.0 MB 21.9 MB/s eta 0:00:00\n",
      "Installing collected packages: pyzmq\n",
      "Successfully installed pyzmq-19.0.2\n"
     ]
    },
    {
     "name": "stderr",
     "output_type": "stream",
     "text": [
      "ERROR: pip's dependency resolver does not currently take into account all the packages that are installed. This behaviour is the source of the following dependency conflicts.\n",
      "jupyter-client 7.4.8 requires pyzmq>=23.0, but you have pyzmq 19.0.2 which is incompatible.\n"
     ]
    }
   ],
   "source": [
    "!pip install -i https://pypi.tuna.tsinghua.edu.cn/simple --trusted-host pypi.tuna.tsinghua.edu.cn --user pyzmq==19.0.2"
   ]
  },
  {
   "cell_type": "code",
   "execution_count": 2,
   "metadata": {},
   "outputs": [],
   "source": [
    "import osmnx as ox\n",
    "import geopandas as gpd"
   ]
  },
  {
   "cell_type": "code",
   "execution_count": 3,
   "metadata": {},
   "outputs": [
    {
     "ename": "",
     "evalue": "",
     "output_type": "error",
     "traceback": [
      "\u001b[1;31mCannot execute code, session has been disposed. Please try restarting the Kernel."
     ]
    },
    {
     "ename": "",
     "evalue": "",
     "output_type": "error",
     "traceback": [
      "\u001b[1;31mThe Kernel crashed while executing code in the the current cell or a previous cell. Please review the code in the cell(s) to identify a possible cause of the failure. Click <a href='https://aka.ms/vscodeJupyterKernelCrash'>here</a> for more info. View Jupyter <a href='command:jupyter.viewOutput'>log</a> for further details."
     ]
    }
   ],
   "source": [
    "G = ox.graph_from_xml(r'D:\\Desktop\\开题\\code\\exiD\\data\\0_cologne_butzweiler.osm')"
   ]
  },
  {
   "cell_type": "code",
   "execution_count": null,
   "metadata": {},
   "outputs": [],
   "source": []
  },
  {
   "cell_type": "code",
   "execution_count": null,
   "metadata": {},
   "outputs": [],
   "source": []
  },
  {
   "cell_type": "markdown",
   "metadata": {},
   "source": [
    "osm2gmns"
   ]
  },
  {
   "cell_type": "code",
   "execution_count": 10,
   "metadata": {},
   "outputs": [
    {
     "name": "stderr",
     "output_type": "stream",
     "text": [
      "ERROR:root:Internal Python error in the inspect module.\n",
      "Below is the traceback from this internal error.\n",
      "\n"
     ]
    },
    {
     "name": "stdout",
     "output_type": "stream",
     "text": [
      "arguments used for network parsing:\n",
      "  filename: D:\\Desktop\\开题\\code\\exiD\\data\\0_cologne_butzweiler.osm\n",
      "  network_types: ('auto',)\n",
      "  link_types: all\n",
      "  POI: False\n",
      "  POI_sampling_ratio: 1.0\n",
      "  strict_mode: True\n",
      "  offset: no\n",
      "  min_nodes: 1\n",
      "  combine: False\n",
      "  bbox: None\n",
      "  default_lanes: False\n",
      "  default_speed: False\n",
      "  default_capacity: False\n",
      "  start_node_id: 0\n",
      "  start_link_id: 0\n",
      "\n",
      "Building Network from OSM file\n",
      "  reading osm file\n",
      "Traceback (most recent call last):\n",
      "  File \"d:\\ProgramData\\Anaconda3\\envs\\python3\\envs\\py37\\lib\\site-packages\\osm2gmns\\io\\read_from_osm.py\", line 229, in _getBounds\n",
      "    f = osmium.io.Reader(filename)\n",
      "RuntimeError\n",
      "\n",
      "During handling of the above exception, another exception occurred:\n",
      "\n",
      "Traceback (most recent call last):\n",
      "  File \"d:\\ProgramData\\Anaconda3\\envs\\python3\\envs\\py37\\lib\\site-packages\\IPython\\core\\interactiveshell.py\", line 3553, in run_code\n",
      "    exec(code_obj, self.user_global_ns, self.user_ns)\n",
      "  File \"C:\\Users\\zxh\\AppData\\Local\\Temp\\ipykernel_145000\\3778804923.py\", line 2, in <module>\n",
      "    net = og.getNetFromFile('D:\\\\Desktop\\\\开题\\\\code\\\\exiD\\\\data\\\\0_cologne_butzweiler.osm')\n",
      "  File \"d:\\ProgramData\\Anaconda3\\envs\\python3\\envs\\py37\\lib\\site-packages\\osm2gmns\\osmnet\\build_net.py\", line 481, in getNetFromFile\n",
      "    osmnetwork = readOSMFile(filename, POI_, strict_mode_, bbox_)\n",
      "  File \"d:\\ProgramData\\Anaconda3\\envs\\python3\\envs\\py37\\lib\\site-packages\\osm2gmns\\io\\read_from_osm.py\", line 277, in readOSMFile\n",
      "    osmnet.bounds = _getBounds(filename, bbox)\n",
      "  File \"d:\\ProgramData\\Anaconda3\\envs\\python3\\envs\\py37\\lib\\site-packages\\osm2gmns\\io\\read_from_osm.py\", line 231, in _getBounds\n",
      "    sys.exit(f'Error: filepath {filename} contains invalid characters. Please use english characters only')\n",
      "SystemExit: Error: filepath D:\\Desktop\\开题\\code\\exiD\\data\\0_cologne_butzweiler.osm contains invalid characters. Please use english characters only\n",
      "\n",
      "During handling of the above exception, another exception occurred:\n",
      "\n",
      "Traceback (most recent call last):\n",
      "  File \"d:\\ProgramData\\Anaconda3\\envs\\python3\\envs\\py37\\lib\\site-packages\\IPython\\core\\ultratb.py\", line 1101, in get_records\n",
      "    return _fixed_getinnerframes(etb, number_of_lines_of_context, tb_offset)\n",
      "  File \"d:\\ProgramData\\Anaconda3\\envs\\python3\\envs\\py37\\lib\\site-packages\\IPython\\core\\ultratb.py\", line 248, in wrapped\n",
      "    return f(*args, **kwargs)\n",
      "  File \"d:\\ProgramData\\Anaconda3\\envs\\python3\\envs\\py37\\lib\\site-packages\\IPython\\core\\ultratb.py\", line 281, in _fixed_getinnerframes\n",
      "    records = fix_frame_records_filenames(inspect.getinnerframes(etb, context))\n",
      "  File \"d:\\ProgramData\\Anaconda3\\envs\\python3\\envs\\py37\\lib\\inspect.py\", line 1502, in getinnerframes\n",
      "    frameinfo = (tb.tb_frame,) + getframeinfo(tb, context)\n",
      "AttributeError: 'tuple' object has no attribute 'tb_frame'\n"
     ]
    },
    {
     "ename": "TypeError",
     "evalue": "object of type 'NoneType' has no len()",
     "output_type": "error",
     "traceback": [
      "\u001b[1;31m---------------------------------------------------------------------------\u001b[0m",
      "\u001b[1;31mRuntimeError\u001b[0m                              Traceback (most recent call last)",
      "\u001b[1;32md:\\ProgramData\\Anaconda3\\envs\\python3\\envs\\py37\\lib\\site-packages\\osm2gmns\\io\\read_from_osm.py\u001b[0m in \u001b[0;36m_getBounds\u001b[1;34m(filename, bbox)\u001b[0m\n\u001b[0;32m    228\u001b[0m     \u001b[1;32mtry\u001b[0m\u001b[1;33m:\u001b[0m\u001b[1;33m\u001b[0m\u001b[1;33m\u001b[0m\u001b[0m\n\u001b[1;32m--> 229\u001b[1;33m         \u001b[0mf\u001b[0m \u001b[1;33m=\u001b[0m \u001b[0mosmium\u001b[0m\u001b[1;33m.\u001b[0m\u001b[0mio\u001b[0m\u001b[1;33m.\u001b[0m\u001b[0mReader\u001b[0m\u001b[1;33m(\u001b[0m\u001b[0mfilename\u001b[0m\u001b[1;33m)\u001b[0m\u001b[1;33m\u001b[0m\u001b[1;33m\u001b[0m\u001b[0m\n\u001b[0m\u001b[0;32m    230\u001b[0m     \u001b[1;32mexcept\u001b[0m\u001b[1;33m:\u001b[0m\u001b[1;33m\u001b[0m\u001b[1;33m\u001b[0m\u001b[0m\n",
      "\u001b[1;31mRuntimeError\u001b[0m: ",
      "\nDuring handling of the above exception, another exception occurred:\n",
      "\u001b[1;31mSystemExit\u001b[0m                                Traceback (most recent call last)",
      "    \u001b[1;31m[... skipping hidden 1 frame]\u001b[0m\n",
      "\u001b[1;32m~\\AppData\\Local\\Temp\\ipykernel_145000\\3778804923.py\u001b[0m in \u001b[0;36m<module>\u001b[1;34m\u001b[0m\n\u001b[0;32m      1\u001b[0m \u001b[1;32mimport\u001b[0m \u001b[0mosm2gmns\u001b[0m \u001b[1;32mas\u001b[0m \u001b[0mog\u001b[0m\u001b[1;33m\u001b[0m\u001b[1;33m\u001b[0m\u001b[0m\n\u001b[1;32m----> 2\u001b[1;33m \u001b[0mnet\u001b[0m \u001b[1;33m=\u001b[0m \u001b[0mog\u001b[0m\u001b[1;33m.\u001b[0m\u001b[0mgetNetFromFile\u001b[0m\u001b[1;33m(\u001b[0m\u001b[1;34m'D:\\\\Desktop\\\\开题\\\\code\\\\exiD\\\\data\\\\0_cologne_butzweiler.osm'\u001b[0m\u001b[1;33m)\u001b[0m\u001b[1;33m\u001b[0m\u001b[1;33m\u001b[0m\u001b[0m\n\u001b[0m",
      "\u001b[1;32md:\\ProgramData\\Anaconda3\\envs\\python3\\envs\\py37\\lib\\site-packages\\osm2gmns\\osmnet\\build_net.py\u001b[0m in \u001b[0;36mgetNetFromFile\u001b[1;34m(filename, network_types, link_types, POI, POI_sampling_ratio, strict_mode, offset, min_nodes, combine, bbox, default_lanes, default_speed, default_capacity, start_node_id, start_link_id)\u001b[0m\n\u001b[0;32m    480\u001b[0m \u001b[1;33m\u001b[0m\u001b[0m\n\u001b[1;32m--> 481\u001b[1;33m     \u001b[0mosmnetwork\u001b[0m \u001b[1;33m=\u001b[0m \u001b[0mreadOSMFile\u001b[0m\u001b[1;33m(\u001b[0m\u001b[0mfilename\u001b[0m\u001b[1;33m,\u001b[0m \u001b[0mPOI_\u001b[0m\u001b[1;33m,\u001b[0m \u001b[0mstrict_mode_\u001b[0m\u001b[1;33m,\u001b[0m \u001b[0mbbox_\u001b[0m\u001b[1;33m)\u001b[0m\u001b[1;33m\u001b[0m\u001b[1;33m\u001b[0m\u001b[0m\n\u001b[0m\u001b[0;32m    482\u001b[0m \u001b[1;33m\u001b[0m\u001b[0m\n",
      "\u001b[1;32md:\\ProgramData\\Anaconda3\\envs\\python3\\envs\\py37\\lib\\site-packages\\osm2gmns\\io\\read_from_osm.py\u001b[0m in \u001b[0;36mreadOSMFile\u001b[1;34m(filename, POI, strict_mode, bbox)\u001b[0m\n\u001b[0;32m    276\u001b[0m \u001b[1;33m\u001b[0m\u001b[0m\n\u001b[1;32m--> 277\u001b[1;33m     \u001b[0mosmnet\u001b[0m\u001b[1;33m.\u001b[0m\u001b[0mbounds\u001b[0m \u001b[1;33m=\u001b[0m \u001b[0m_getBounds\u001b[0m\u001b[1;33m(\u001b[0m\u001b[0mfilename\u001b[0m\u001b[1;33m,\u001b[0m \u001b[0mbbox\u001b[0m\u001b[1;33m)\u001b[0m\u001b[1;33m\u001b[0m\u001b[1;33m\u001b[0m\u001b[0m\n\u001b[0m\u001b[0;32m    278\u001b[0m \u001b[1;33m\u001b[0m\u001b[0m\n",
      "\u001b[1;32md:\\ProgramData\\Anaconda3\\envs\\python3\\envs\\py37\\lib\\site-packages\\osm2gmns\\io\\read_from_osm.py\u001b[0m in \u001b[0;36m_getBounds\u001b[1;34m(filename, bbox)\u001b[0m\n\u001b[0;32m    230\u001b[0m     \u001b[1;32mexcept\u001b[0m\u001b[1;33m:\u001b[0m\u001b[1;33m\u001b[0m\u001b[1;33m\u001b[0m\u001b[0m\n\u001b[1;32m--> 231\u001b[1;33m         \u001b[0msys\u001b[0m\u001b[1;33m.\u001b[0m\u001b[0mexit\u001b[0m\u001b[1;33m(\u001b[0m\u001b[1;34mf'Error: filepath {filename} contains invalid characters. Please use english characters only'\u001b[0m\u001b[1;33m)\u001b[0m\u001b[1;33m\u001b[0m\u001b[1;33m\u001b[0m\u001b[0m\n\u001b[0m\u001b[0;32m    232\u001b[0m \u001b[1;33m\u001b[0m\u001b[0m\n",
      "\u001b[1;31mSystemExit\u001b[0m: Error: filepath D:\\Desktop\\开题\\code\\exiD\\data\\0_cologne_butzweiler.osm contains invalid characters. Please use english characters only",
      "\nDuring handling of the above exception, another exception occurred:\n",
      "\u001b[1;31mTypeError\u001b[0m                                 Traceback (most recent call last)",
      "    \u001b[1;31m[... skipping hidden 1 frame]\u001b[0m\n",
      "\u001b[1;32md:\\ProgramData\\Anaconda3\\envs\\python3\\envs\\py37\\lib\\site-packages\\IPython\\core\\interactiveshell.py\u001b[0m in \u001b[0;36mshowtraceback\u001b[1;34m(self, exc_tuple, filename, tb_offset, exception_only, running_compiled_code)\u001b[0m\n\u001b[0;32m   2091\u001b[0m                            'the full traceback.\\n']\n\u001b[0;32m   2092\u001b[0m                     stb.extend(self.InteractiveTB.get_exception_only(etype,\n\u001b[1;32m-> 2093\u001b[1;33m                                                                      value))\n\u001b[0m\u001b[0;32m   2094\u001b[0m                 \u001b[1;32melse\u001b[0m\u001b[1;33m:\u001b[0m\u001b[1;33m\u001b[0m\u001b[1;33m\u001b[0m\u001b[0m\n\u001b[0;32m   2095\u001b[0m                     \u001b[1;32mtry\u001b[0m\u001b[1;33m:\u001b[0m\u001b[1;33m\u001b[0m\u001b[1;33m\u001b[0m\u001b[0m\n",
      "\u001b[1;32md:\\ProgramData\\Anaconda3\\envs\\python3\\envs\\py37\\lib\\site-packages\\IPython\\core\\ultratb.py\u001b[0m in \u001b[0;36mget_exception_only\u001b[1;34m(self, etype, value)\u001b[0m\n\u001b[0;32m    752\u001b[0m         \u001b[0mvalue\u001b[0m \u001b[1;33m:\u001b[0m \u001b[0mexception\u001b[0m \u001b[0mvalue\u001b[0m\u001b[1;33m\u001b[0m\u001b[1;33m\u001b[0m\u001b[0m\n\u001b[0;32m    753\u001b[0m         \"\"\"\n\u001b[1;32m--> 754\u001b[1;33m         \u001b[1;32mreturn\u001b[0m \u001b[0mListTB\u001b[0m\u001b[1;33m.\u001b[0m\u001b[0mstructured_traceback\u001b[0m\u001b[1;33m(\u001b[0m\u001b[0mself\u001b[0m\u001b[1;33m,\u001b[0m \u001b[0metype\u001b[0m\u001b[1;33m,\u001b[0m \u001b[0mvalue\u001b[0m\u001b[1;33m)\u001b[0m\u001b[1;33m\u001b[0m\u001b[1;33m\u001b[0m\u001b[0m\n\u001b[0m\u001b[0;32m    755\u001b[0m \u001b[1;33m\u001b[0m\u001b[0m\n\u001b[0;32m    756\u001b[0m     \u001b[1;32mdef\u001b[0m \u001b[0mshow_exception_only\u001b[0m\u001b[1;33m(\u001b[0m\u001b[0mself\u001b[0m\u001b[1;33m,\u001b[0m \u001b[0metype\u001b[0m\u001b[1;33m,\u001b[0m \u001b[0mevalue\u001b[0m\u001b[1;33m)\u001b[0m\u001b[1;33m:\u001b[0m\u001b[1;33m\u001b[0m\u001b[1;33m\u001b[0m\u001b[0m\n",
      "\u001b[1;32md:\\ProgramData\\Anaconda3\\envs\\python3\\envs\\py37\\lib\\site-packages\\IPython\\core\\ultratb.py\u001b[0m in \u001b[0;36mstructured_traceback\u001b[1;34m(self, etype, evalue, etb, tb_offset, context)\u001b[0m\n\u001b[0;32m    631\u001b[0m                     chained_exceptions_tb_offset, context)\n\u001b[0;32m    632\u001b[0m                 \u001b[1;33m+\u001b[0m \u001b[0mchained_exception_message\u001b[0m\u001b[1;33m\u001b[0m\u001b[1;33m\u001b[0m\u001b[0m\n\u001b[1;32m--> 633\u001b[1;33m                 + out_list)\n\u001b[0m\u001b[0;32m    634\u001b[0m \u001b[1;33m\u001b[0m\u001b[0m\n\u001b[0;32m    635\u001b[0m         \u001b[1;32mreturn\u001b[0m \u001b[0mout_list\u001b[0m\u001b[1;33m\u001b[0m\u001b[1;33m\u001b[0m\u001b[0m\n",
      "\u001b[1;32md:\\ProgramData\\Anaconda3\\envs\\python3\\envs\\py37\\lib\\site-packages\\IPython\\core\\ultratb.py\u001b[0m in \u001b[0;36mstructured_traceback\u001b[1;34m(self, etype, value, tb, tb_offset, number_of_lines_of_context)\u001b[0m\n\u001b[0;32m   1366\u001b[0m             \u001b[0mself\u001b[0m\u001b[1;33m.\u001b[0m\u001b[0mtb\u001b[0m \u001b[1;33m=\u001b[0m \u001b[0mtb\u001b[0m\u001b[1;33m\u001b[0m\u001b[1;33m\u001b[0m\u001b[0m\n\u001b[0;32m   1367\u001b[0m         return FormattedTB.structured_traceback(\n\u001b[1;32m-> 1368\u001b[1;33m             self, etype, value, tb, tb_offset, number_of_lines_of_context)\n\u001b[0m\u001b[0;32m   1369\u001b[0m \u001b[1;33m\u001b[0m\u001b[0m\n\u001b[0;32m   1370\u001b[0m \u001b[1;33m\u001b[0m\u001b[0m\n",
      "\u001b[1;32md:\\ProgramData\\Anaconda3\\envs\\python3\\envs\\py37\\lib\\site-packages\\IPython\\core\\ultratb.py\u001b[0m in \u001b[0;36mstructured_traceback\u001b[1;34m(self, etype, value, tb, tb_offset, number_of_lines_of_context)\u001b[0m\n\u001b[0;32m   1266\u001b[0m             \u001b[1;31m# Verbose modes need a full traceback\u001b[0m\u001b[1;33m\u001b[0m\u001b[1;33m\u001b[0m\u001b[1;33m\u001b[0m\u001b[0m\n\u001b[0;32m   1267\u001b[0m             return VerboseTB.structured_traceback(\n\u001b[1;32m-> 1268\u001b[1;33m                 \u001b[0mself\u001b[0m\u001b[1;33m,\u001b[0m \u001b[0metype\u001b[0m\u001b[1;33m,\u001b[0m \u001b[0mvalue\u001b[0m\u001b[1;33m,\u001b[0m \u001b[0mtb\u001b[0m\u001b[1;33m,\u001b[0m \u001b[0mtb_offset\u001b[0m\u001b[1;33m,\u001b[0m \u001b[0mnumber_of_lines_of_context\u001b[0m\u001b[1;33m\u001b[0m\u001b[1;33m\u001b[0m\u001b[0m\n\u001b[0m\u001b[0;32m   1269\u001b[0m             )\n\u001b[0;32m   1270\u001b[0m         \u001b[1;32melif\u001b[0m \u001b[0mmode\u001b[0m \u001b[1;33m==\u001b[0m \u001b[1;34m'Minimal'\u001b[0m\u001b[1;33m:\u001b[0m\u001b[1;33m\u001b[0m\u001b[1;33m\u001b[0m\u001b[0m\n",
      "\u001b[1;32md:\\ProgramData\\Anaconda3\\envs\\python3\\envs\\py37\\lib\\site-packages\\IPython\\core\\ultratb.py\u001b[0m in \u001b[0;36mstructured_traceback\u001b[1;34m(self, etype, evalue, etb, tb_offset, number_of_lines_of_context)\u001b[0m\n\u001b[0;32m   1123\u001b[0m \u001b[1;33m\u001b[0m\u001b[0m\n\u001b[0;32m   1124\u001b[0m         formatted_exception = self.format_exception_as_a_whole(etype, evalue, etb, number_of_lines_of_context,\n\u001b[1;32m-> 1125\u001b[1;33m                                                                tb_offset)\n\u001b[0m\u001b[0;32m   1126\u001b[0m \u001b[1;33m\u001b[0m\u001b[0m\n\u001b[0;32m   1127\u001b[0m         \u001b[0mcolors\u001b[0m \u001b[1;33m=\u001b[0m \u001b[0mself\u001b[0m\u001b[1;33m.\u001b[0m\u001b[0mColors\u001b[0m  \u001b[1;31m# just a shorthand + quicker name lookup\u001b[0m\u001b[1;33m\u001b[0m\u001b[1;33m\u001b[0m\u001b[0m\n",
      "\u001b[1;32md:\\ProgramData\\Anaconda3\\envs\\python3\\envs\\py37\\lib\\site-packages\\IPython\\core\\ultratb.py\u001b[0m in \u001b[0;36mformat_exception_as_a_whole\u001b[1;34m(self, etype, evalue, etb, number_of_lines_of_context, tb_offset)\u001b[0m\n\u001b[0;32m   1080\u001b[0m \u001b[1;33m\u001b[0m\u001b[0m\n\u001b[0;32m   1081\u001b[0m \u001b[1;33m\u001b[0m\u001b[0m\n\u001b[1;32m-> 1082\u001b[1;33m         \u001b[0mlast_unique\u001b[0m\u001b[1;33m,\u001b[0m \u001b[0mrecursion_repeat\u001b[0m \u001b[1;33m=\u001b[0m \u001b[0mfind_recursion\u001b[0m\u001b[1;33m(\u001b[0m\u001b[0morig_etype\u001b[0m\u001b[1;33m,\u001b[0m \u001b[0mevalue\u001b[0m\u001b[1;33m,\u001b[0m \u001b[0mrecords\u001b[0m\u001b[1;33m)\u001b[0m\u001b[1;33m\u001b[0m\u001b[1;33m\u001b[0m\u001b[0m\n\u001b[0m\u001b[0;32m   1083\u001b[0m \u001b[1;33m\u001b[0m\u001b[0m\n\u001b[0;32m   1084\u001b[0m         \u001b[0mframes\u001b[0m \u001b[1;33m=\u001b[0m \u001b[0mself\u001b[0m\u001b[1;33m.\u001b[0m\u001b[0mformat_records\u001b[0m\u001b[1;33m(\u001b[0m\u001b[0mrecords\u001b[0m\u001b[1;33m,\u001b[0m \u001b[0mlast_unique\u001b[0m\u001b[1;33m,\u001b[0m \u001b[0mrecursion_repeat\u001b[0m\u001b[1;33m)\u001b[0m\u001b[1;33m\u001b[0m\u001b[1;33m\u001b[0m\u001b[0m\n",
      "\u001b[1;32md:\\ProgramData\\Anaconda3\\envs\\python3\\envs\\py37\\lib\\site-packages\\IPython\\core\\ultratb.py\u001b[0m in \u001b[0;36mfind_recursion\u001b[1;34m(etype, value, records)\u001b[0m\n\u001b[0;32m    380\u001b[0m     \u001b[1;31m# first frame (from in to out) that looks different.\u001b[0m\u001b[1;33m\u001b[0m\u001b[1;33m\u001b[0m\u001b[1;33m\u001b[0m\u001b[0m\n\u001b[0;32m    381\u001b[0m     \u001b[1;32mif\u001b[0m \u001b[1;32mnot\u001b[0m \u001b[0mis_recursion_error\u001b[0m\u001b[1;33m(\u001b[0m\u001b[0metype\u001b[0m\u001b[1;33m,\u001b[0m \u001b[0mvalue\u001b[0m\u001b[1;33m,\u001b[0m \u001b[0mrecords\u001b[0m\u001b[1;33m)\u001b[0m\u001b[1;33m:\u001b[0m\u001b[1;33m\u001b[0m\u001b[1;33m\u001b[0m\u001b[0m\n\u001b[1;32m--> 382\u001b[1;33m         \u001b[1;32mreturn\u001b[0m \u001b[0mlen\u001b[0m\u001b[1;33m(\u001b[0m\u001b[0mrecords\u001b[0m\u001b[1;33m)\u001b[0m\u001b[1;33m,\u001b[0m \u001b[1;36m0\u001b[0m\u001b[1;33m\u001b[0m\u001b[1;33m\u001b[0m\u001b[0m\n\u001b[0m\u001b[0;32m    383\u001b[0m \u001b[1;33m\u001b[0m\u001b[0m\n\u001b[0;32m    384\u001b[0m     \u001b[1;31m# Select filename, lineno, func_name to track frames with\u001b[0m\u001b[1;33m\u001b[0m\u001b[1;33m\u001b[0m\u001b[1;33m\u001b[0m\u001b[0m\n",
      "\u001b[1;31mTypeError\u001b[0m: object of type 'NoneType' has no len()"
     ]
    }
   ],
   "source": [
    "import osm2gmns as og\n",
    "net = og.getNetFromFile('D:\\\\Desktop\\\\开题\\\\code\\\\exiD\\\\data\\\\0_cologne_butzweiler.osm')"
   ]
  },
  {
   "cell_type": "code",
   "execution_count": null,
   "metadata": {},
   "outputs": [],
   "source": [
    "o"
   ]
  },
  {
   "cell_type": "code",
   "execution_count": null,
   "metadata": {},
   "outputs": [],
   "source": []
  },
  {
   "cell_type": "code",
   "execution_count": null,
   "metadata": {},
   "outputs": [],
   "source": []
  },
  {
   "cell_type": "code",
   "execution_count": null,
   "metadata": {},
   "outputs": [],
   "source": []
  },
  {
   "cell_type": "code",
   "execution_count": null,
   "metadata": {},
   "outputs": [],
   "source": []
  },
  {
   "cell_type": "code",
   "execution_count": null,
   "metadata": {},
   "outputs": [],
   "source": []
  },
  {
   "cell_type": "markdown",
   "metadata": {},
   "source": [
    "### 拟合函数\n",
    "使用遗传算法\n",
    "- GA\n",
    "- IDM\n",
    "- FVD"
   ]
  },
  {
   "cell_type": "markdown",
   "metadata": {},
   "source": [
    "#### 损失函数"
   ]
  },
  {
   "cell_type": "code",
   "execution_count": 54,
   "metadata": {},
   "outputs": [],
   "source": [
    "def get_mse(records_real, records_predict):\n",
    "    \"\"\"\n",
    "    均方误差 估计值与真值 偏差\n",
    "    \"\"\"\n",
    "    if len(records_real) == len(records_predict):\n",
    "        return sum([(x - y) ** 2 for x, y in zip(records_real, records_predict)]) / len(records_real)\n",
    "    else:\n",
    "        return None\n",
    "\n",
    "\n",
    "def get_rmse(records_real, records_predict):\n",
    "    \"\"\"\n",
    "    均方根误差：是均方误差的算术平方根\n",
    "    \"\"\"\n",
    "    mse = get_mse(records_real, records_predict)\n",
    "    if mse:\n",
    "        return math.sqrt(mse)\n",
    "    else:\n",
    "        return None"
   ]
  },
  {
   "cell_type": "code",
   "execution_count": null,
   "metadata": {},
   "outputs": [],
   "source": []
  },
  {
   "cell_type": "markdown",
   "metadata": {},
   "source": [
    "#### IDM\n"
   ]
  },
  {
   "cell_type": "code",
   "execution_count": 21,
   "metadata": {},
   "outputs": [],
   "source": [
    "# 遗传算法\n",
    "def function_idm(p):\n",
    "\n",
    "    x1,x2,x3,x4,x5,x6,x7 = p\n",
    "    Length_of_Car=x1\n",
    "    Maximum_Acc = x2  # 最大加速度\n",
    "    Comfortable_Dec =x3  # 舒适减速度\n",
    "    Desire_Spe=x4  # 期望速度\n",
    "    Desire_Spa_Tim =x5  # 期望车头时距\n",
    "    Minimum_Spa = x6  # 最短车头间距\n",
    "    Para_Beta = x7  # 加速度系数\n",
    "\n",
    "    simulated_spe = []\n",
    "    cur_sim_acc = []\n",
    "    simulate_headway = []\n",
    "    cur_sim_hea = space_headway[0]\n",
    "    cur_sim_spe = follower_speed[0]\n",
    "\n",
    "    for i in range(len(group)):\n",
    "\n",
    "        cur_forhead_spe = forhead_speed[i]\n",
    "        cur_head_space = space_headway[i]\n",
    "        cur_follower_speed = follower_speed[i]\n",
    "\n",
    "        try:\n",
    "            cur_des_spa = Minimum_Spa + cur_follower_speed * Desire_Spa_Tim + 0 * math.sqrt(cur_follower_speed / Desire_Spe) + \\\n",
    "                            (cur_follower_speed * (cur_follower_speed - cur_forhead_spe)) / (\n",
    "                                    2 * math.sqrt(Maximum_Acc * Comfortable_Dec))\n",
    "        except:\n",
    "            cur_des_spa=5\n",
    "\n",
    "        cur_follow_1_acc = Maximum_Acc * (1 - math.pow((cur_follower_speed / Desire_Spe), Para_Beta) -\n",
    "                                    math.pow(cur_des_spa / (cur_head_space - Length_of_Car),\n",
    "                                            2))\n",
    "\n",
    "        cur_sim_spe = cur_sim_spe + cur_follow_1_acc\n",
    "        cur_sim_hea = cur_sim_hea + cur_sim_spe\n",
    "\n",
    "        simulated_spe.append(cur_sim_spe)\n",
    "        simulate_headway.append(cur_sim_hea)\n",
    "        cur_sim_acc.append(cur_follow_1_acc)\n",
    "\n",
    "    abs_sum_1 = 0\n",
    "    for i in range(len(cur_sim_acc)):\n",
    "        abs_sum_1 += abs(cur_sim_acc[i])\n",
    "\n",
    "    abs_sum_2 = 0\n",
    "    for i in range(len(cur_sim_acc)):\n",
    "        abs_sum_2 += (cur_sim_acc[i] - follower_acc[i]) ** 2 / (abs(follower_acc[i]))\n",
    "\n",
    "    youhua = abs_sum_2 / abs_sum_1\n",
    "\n",
    "    return get_rmse(follower_acc,cur_sim_acc)"
   ]
  },
  {
   "cell_type": "code",
   "execution_count": 22,
   "metadata": {},
   "outputs": [],
   "source": [
    "def draw_picture_idm(p):\n",
    "\n",
    "    x1,x2,x3,x4,x5,x6,x7 = p\n",
    "    Length_of_Car=x1\n",
    "    Maximum_Acc = x2  # 最大加速度\n",
    "    Comfortable_Dec =x3  # 舒适减速度\n",
    "    Desire_Spe=x4  # 期望速度\n",
    "    Desire_Spa_Tim =x5  # 期望车头时距\n",
    "    Minimum_Spa = x6  # 最短车头间距\n",
    "    Para_Beta = x7  # 加速度系数\n",
    "\n",
    "    simulated_spe = []\n",
    "    cur_sim_acc = []\n",
    "    simulate_position = []\n",
    "    cur_sim_spe = follower_speed[0]\n",
    "    cur_simu_position = follower_position[0]\n",
    "\n",
    "    for i in range(len(group)):\n",
    "\n",
    "        cur_forhead_spe = forhead_speed[i]\n",
    "        cur_head_space = space_headway[i]\n",
    "        cur_follower_speed = follower_speed[i]\n",
    "\n",
    "        cur_des_spa = Minimum_Spa + cur_follower_speed * Desire_Spa_Tim + 0 * math.sqrt(cur_follower_speed / Desire_Spe) + \\\n",
    "                        (cur_follower_speed * (cur_follower_speed - cur_forhead_spe)) / (\n",
    "                                2 * math.sqrt(Maximum_Acc * Comfortable_Dec))\n",
    "\n",
    "        cur_follow_1_acc = Maximum_Acc * (1 - math.pow((cur_follower_speed / Desire_Spe), Para_Beta) -\n",
    "                                    math.pow(cur_des_spa / (cur_head_space - Length_of_Car),\n",
    "                                            2))\n",
    "\n",
    "        simulated_spe.append(cur_sim_spe)\n",
    "        simulate_position.append(cur_simu_position)\n",
    "\n",
    "        cur_sim_spe = cur_sim_spe + cur_follow_1_acc*0.1\n",
    "        cur_simu_position = cur_simu_position + cur_sim_spe*0.1\n",
    "\n",
    "        cur_sim_acc.append(cur_follow_1_acc)\n",
    "\n",
    "\n",
    "    return simulated_spe,cur_sim_acc,simulate_position"
   ]
  },
  {
   "cell_type": "code",
   "execution_count": null,
   "metadata": {},
   "outputs": [],
   "source": []
  },
  {
   "cell_type": "markdown",
   "metadata": {},
   "source": [
    "#### FVD"
   ]
  },
  {
   "cell_type": "code",
   "execution_count": 23,
   "metadata": {},
   "outputs": [],
   "source": [
    " # FVD遗传算法\n",
    "# 遗传算法\n",
    "def function_fvd(p):\n",
    "\n",
    "    x1,x2,x3,x4,x5,x6,x7 = p\n",
    "    # 期望速度\n",
    "    Desire_Spe = x1\n",
    "        # 常敏感性系数\n",
    "    Constant_Sensitivity_Coe = x2\n",
    "    # 相对速度差敏感性系数\n",
    "    Rel_Spe_Sen_Coe = x3\n",
    "    # beta，b系数\n",
    "    Para_Beta=x4\n",
    "    Para_b =x5\n",
    "    # 自由流与跟驰策略的间距阈值\n",
    "    Max_Fol_Dis = x6\n",
    "    # 有效的车长\n",
    "    Eff_veh_len = x7\n",
    "\n",
    "    simulated_spe = []\n",
    "    cur_sim_acc = []\n",
    "    simulate_headway = []\n",
    "    cur_sim_hea = space_headway[0]\n",
    "    cur_sim_spe = follower_speed[0]\n",
    "\n",
    "    for i in range(len(group)):\n",
    "\n",
    "        cur_forhead_spe = forhead_speed[i]\n",
    "        cur_head_space = space_headway[i]\n",
    "        cur_follower_speed = follower_speed[i]\n",
    "\n",
    "        # 后车参数的更新\n",
    "        if cur_head_space <= Max_Fol_Dis:\n",
    "            cur_Rel_Spe_Sen_Coe = Rel_Spe_Sen_Coe\n",
    "        else:\n",
    "            cur_Rel_Spe_Sen_Coe = 0\n",
    "\n",
    "        cur_bef_des_spe = (0.5 * Desire_Spe) * (\n",
    "                math.tanh(((cur_head_space - Eff_veh_len) / Para_b - Para_Beta))\n",
    "                - math.tanh(-Para_Beta))\n",
    "        cur_follow_1_acc = Constant_Sensitivity_Coe * (cur_bef_des_spe - cur_follower_speed) + cur_Rel_Spe_Sen_Coe * (cur_forhead_spe - cur_follower_speed)\n",
    "\n",
    "\n",
    "\n",
    "        cur_sim_spe = cur_sim_spe + cur_follow_1_acc\n",
    "        cur_sim_hea = cur_sim_hea + cur_sim_spe\n",
    "\n",
    "        simulated_spe.append(cur_sim_spe)\n",
    "        simulate_headway.append(cur_sim_hea)\n",
    "        cur_sim_acc.append(cur_follow_1_acc)\n",
    "\n",
    "    return get_rmse(follower_acc,cur_sim_acc)"
   ]
  },
  {
   "cell_type": "code",
   "execution_count": 24,
   "metadata": {},
   "outputs": [],
   "source": [
    "def draw_picture_fvd(p):\n",
    "\n",
    "    x1,x2,x3,x4,x5,x6,x7 = p\n",
    "    # 期望速度\n",
    "    Desire_Spe = x1\n",
    "    # 常敏感性系数\n",
    "    Constant_Sensitivity_Coe = x2\n",
    "    # 相对速度差敏感性系数\n",
    "    Rel_Spe_Sen_Coe = x3\n",
    "    # beta，b系数\n",
    "    Para_Beta=x4\n",
    "    Para_b =x5\n",
    "    # 自由流与跟驰策略的间距阈值\n",
    "    Max_Fol_Dis = x6\n",
    "    # 有效的车长\n",
    "    Eff_veh_len = x7\n",
    "\n",
    "    simulated_spe = []\n",
    "    cur_sim_acc = []\n",
    "    simulate_position = []\n",
    "    cur_sim_spe = follower_speed[0]\n",
    "    cur_simu_position=follower_position[0]\n",
    "\n",
    "    for i in range(len(group)):\n",
    "\n",
    "        cur_forhead_spe = forhead_speed[i]\n",
    "        cur_head_space = space_headway[i]\n",
    "        cur_follower_speed = follower_speed[i]\n",
    "\n",
    "        # 后车参数的更新\n",
    "        if cur_head_space <= Max_Fol_Dis:\n",
    "            cur_Rel_Spe_Sen_Coe = Rel_Spe_Sen_Coe\n",
    "        else:\n",
    "            cur_Rel_Spe_Sen_Coe = 0\n",
    "\n",
    "        cur_bef_des_spe = (0.5 * Desire_Spe) * (\n",
    "                math.tanh(((cur_head_space - Eff_veh_len) / Para_b - Para_Beta))\n",
    "                - math.tanh(-Para_Beta))\n",
    "        cur_follow_1_acc = Constant_Sensitivity_Coe * (cur_bef_des_spe - cur_follower_speed) + cur_Rel_Spe_Sen_Coe * (cur_forhead_spe - cur_follower_speed)\n",
    "\n",
    "\n",
    "\n",
    "        simulated_spe.append(cur_sim_spe)\n",
    "        simulate_position.append(cur_simu_position)\n",
    "\n",
    "        cur_sim_spe = cur_sim_spe + cur_follow_1_acc*0.1\n",
    "        cur_simu_position = cur_simu_position + cur_sim_spe*0.1\n",
    "\n",
    "        cur_sim_acc.append(cur_follow_1_acc)\n",
    "\n",
    "    return simulated_spe,cur_sim_acc,simulate_position"
   ]
  },
  {
   "cell_type": "code",
   "execution_count": null,
   "metadata": {},
   "outputs": [],
   "source": []
  },
  {
   "cell_type": "code",
   "execution_count": null,
   "metadata": {},
   "outputs": [],
   "source": []
  },
  {
   "cell_type": "markdown",
   "metadata": {},
   "source": [
    "### 训练"
   ]
  },
  {
   "cell_type": "code",
   "execution_count": 55,
   "metadata": {},
   "outputs": [],
   "source": [
    "simulate_data=pd.DataFrame()\n",
    "final_parameter_idm=pd.DataFrame()\n",
    "final_loss_idm=pd.DataFrame()\n",
    "final_parameter_fvd=pd.DataFrame()\n",
    "final_loss_fvd=pd.DataFrame()"
   ]
  },
  {
   "cell_type": "code",
   "execution_count": 57,
   "metadata": {},
   "outputs": [],
   "source": [
    "# ga的边界\n",
    "\n",
    "lb_x_idm = [4,3,4,10,0.1,0.1,0.1]\n",
    "ub_x_idm = [6,8,10,30,10,10,10]\n",
    "\n",
    "lb_x_fvd = [10,0.1,0.1,0.1,0.1,5,4]\n",
    "ub_x_fvd = [30,10,10,10,10,50,6]\n"
   ]
  },
  {
   "cell_type": "code",
   "execution_count": 40,
   "metadata": {},
   "outputs": [
    {
     "data": {
      "text/html": [
       "<div>\n",
       "<style scoped>\n",
       "    .dataframe tbody tr th:only-of-type {\n",
       "        vertical-align: middle;\n",
       "    }\n",
       "\n",
       "    .dataframe tbody tr th {\n",
       "        vertical-align: top;\n",
       "    }\n",
       "\n",
       "    .dataframe thead th {\n",
       "        text-align: right;\n",
       "    }\n",
       "</style>\n",
       "<table border=\"1\" class=\"dataframe\">\n",
       "  <thead>\n",
       "    <tr style=\"text-align: right;\">\n",
       "      <th></th>\n",
       "      <th>trackId</th>\n",
       "      <th>frame</th>\n",
       "      <th>xCenter</th>\n",
       "      <th>yCenter</th>\n",
       "      <th>lonVelocity</th>\n",
       "      <th>latVelocity</th>\n",
       "      <th>lonAcceleration</th>\n",
       "      <th>lonLaneletPos</th>\n",
       "      <th>leadId</th>\n",
       "      <th>leadDHW</th>\n",
       "      <th>xCenter_lead</th>\n",
       "      <th>yCenter_lead</th>\n",
       "      <th>lonVelocity_lead</th>\n",
       "      <th>latVelocity_lead</th>\n",
       "      <th>lonAcceleration_lead</th>\n",
       "      <th>lonLaneletPos_lead</th>\n",
       "    </tr>\n",
       "  </thead>\n",
       "  <tbody>\n",
       "    <tr>\n",
       "      <th>205</th>\n",
       "      <td>3</td>\n",
       "      <td>0</td>\n",
       "      <td>403.8263</td>\n",
       "      <td>-230.0390</td>\n",
       "      <td>31.2677</td>\n",
       "      <td>-0.0</td>\n",
       "      <td>0.4521</td>\n",
       "      <td>5.72</td>\n",
       "      <td>0</td>\n",
       "      <td>33.64</td>\n",
       "      <td>380.7679</td>\n",
       "      <td>-200.3428</td>\n",
       "      <td>31.9832</td>\n",
       "      <td>-0.0</td>\n",
       "      <td>0.3884</td>\n",
       "      <td>43.32</td>\n",
       "    </tr>\n",
       "    <tr>\n",
       "      <th>206</th>\n",
       "      <td>3</td>\n",
       "      <td>1</td>\n",
       "      <td>403.0660</td>\n",
       "      <td>-229.0478</td>\n",
       "      <td>31.2873</td>\n",
       "      <td>-0.0</td>\n",
       "      <td>0.4519</td>\n",
       "      <td>6.97</td>\n",
       "      <td>0</td>\n",
       "      <td>33.67</td>\n",
       "      <td>379.9906</td>\n",
       "      <td>-199.3281</td>\n",
       "      <td>32.0047</td>\n",
       "      <td>-0.0</td>\n",
       "      <td>0.3846</td>\n",
       "      <td>44.60</td>\n",
       "    </tr>\n",
       "    <tr>\n",
       "      <th>207</th>\n",
       "      <td>3</td>\n",
       "      <td>2</td>\n",
       "      <td>402.3050</td>\n",
       "      <td>-228.0557</td>\n",
       "      <td>31.3076</td>\n",
       "      <td>-0.0</td>\n",
       "      <td>0.4510</td>\n",
       "      <td>8.22</td>\n",
       "      <td>0</td>\n",
       "      <td>33.70</td>\n",
       "      <td>379.2125</td>\n",
       "      <td>-198.3121</td>\n",
       "      <td>32.0264</td>\n",
       "      <td>-0.0</td>\n",
       "      <td>0.3782</td>\n",
       "      <td>45.88</td>\n",
       "    </tr>\n",
       "    <tr>\n",
       "      <th>208</th>\n",
       "      <td>3</td>\n",
       "      <td>3</td>\n",
       "      <td>401.5434</td>\n",
       "      <td>-227.0626</td>\n",
       "      <td>31.3283</td>\n",
       "      <td>-0.0</td>\n",
       "      <td>0.4491</td>\n",
       "      <td>9.47</td>\n",
       "      <td>0</td>\n",
       "      <td>33.73</td>\n",
       "      <td>378.4335</td>\n",
       "      <td>-197.2947</td>\n",
       "      <td>32.0478</td>\n",
       "      <td>-0.0</td>\n",
       "      <td>0.3694</td>\n",
       "      <td>47.16</td>\n",
       "    </tr>\n",
       "    <tr>\n",
       "      <th>209</th>\n",
       "      <td>3</td>\n",
       "      <td>4</td>\n",
       "      <td>400.7812</td>\n",
       "      <td>-226.0685</td>\n",
       "      <td>31.3493</td>\n",
       "      <td>-0.0</td>\n",
       "      <td>0.4460</td>\n",
       "      <td>10.73</td>\n",
       "      <td>0</td>\n",
       "      <td>33.76</td>\n",
       "      <td>377.6538</td>\n",
       "      <td>-196.2763</td>\n",
       "      <td>32.0687</td>\n",
       "      <td>-0.0</td>\n",
       "      <td>0.3581</td>\n",
       "      <td>48.44</td>\n",
       "    </tr>\n",
       "  </tbody>\n",
       "</table>\n",
       "</div>"
      ],
      "text/plain": [
       "     trackId  frame   xCenter   yCenter  lonVelocity  latVelocity  \\\n",
       "205        3      0  403.8263 -230.0390      31.2677         -0.0   \n",
       "206        3      1  403.0660 -229.0478      31.2873         -0.0   \n",
       "207        3      2  402.3050 -228.0557      31.3076         -0.0   \n",
       "208        3      3  401.5434 -227.0626      31.3283         -0.0   \n",
       "209        3      4  400.7812 -226.0685      31.3493         -0.0   \n",
       "\n",
       "     lonAcceleration lonLaneletPos  leadId  leadDHW  xCenter_lead  \\\n",
       "205           0.4521          5.72       0    33.64      380.7679   \n",
       "206           0.4519          6.97       0    33.67      379.9906   \n",
       "207           0.4510          8.22       0    33.70      379.2125   \n",
       "208           0.4491          9.47       0    33.73      378.4335   \n",
       "209           0.4460         10.73       0    33.76      377.6538   \n",
       "\n",
       "     yCenter_lead  lonVelocity_lead  latVelocity_lead  lonAcceleration_lead  \\\n",
       "205     -200.3428           31.9832              -0.0                0.3884   \n",
       "206     -199.3281           32.0047              -0.0                0.3846   \n",
       "207     -198.3121           32.0264              -0.0                0.3782   \n",
       "208     -197.2947           32.0478              -0.0                0.3694   \n",
       "209     -196.2763           32.0687              -0.0                0.3581   \n",
       "\n",
       "    lonLaneletPos_lead  \n",
       "205              43.32  \n",
       "206              44.60  \n",
       "207              45.88  \n",
       "208              47.16  \n",
       "209              48.44  "
      ]
     },
     "execution_count": 40,
     "metadata": {},
     "output_type": "execute_result"
    }
   ],
   "source": [
    "data.head()"
   ]
  },
  {
   "cell_type": "code",
   "execution_count": 58,
   "metadata": {},
   "outputs": [
    {
     "name": "stderr",
     "output_type": "stream",
     "text": [
      "d:\\ProgramData\\Anaconda3\\envs\\python3\\envs\\py37\\lib\\site-packages\\ipykernel_launcher.py:60: RuntimeWarning: divide by zero encountered in double_scalars\n",
      "d:\\ProgramData\\Anaconda3\\envs\\python3\\envs\\py37\\lib\\site-packages\\ipykernel_launcher.py:259: PerformanceWarning: DataFrame is highly fragmented.  This is usually the result of calling `frame.insert` many times, which has poor performance.  Consider joining all columns at once using pd.concat(axis=1) instead.  To get a de-fragmented frame, use `newframe = frame.copy()`\n",
      "d:\\ProgramData\\Anaconda3\\envs\\python3\\envs\\py37\\lib\\site-packages\\ipykernel_launcher.py:260: PerformanceWarning: DataFrame is highly fragmented.  This is usually the result of calling `frame.insert` many times, which has poor performance.  Consider joining all columns at once using pd.concat(axis=1) instead.  To get a de-fragmented frame, use `newframe = frame.copy()`\n",
      "d:\\ProgramData\\Anaconda3\\envs\\python3\\envs\\py37\\lib\\site-packages\\ipykernel_launcher.py:261: PerformanceWarning: DataFrame is highly fragmented.  This is usually the result of calling `frame.insert` many times, which has poor performance.  Consider joining all columns at once using pd.concat(axis=1) instead.  To get a de-fragmented frame, use `newframe = frame.copy()`\n",
      "d:\\ProgramData\\Anaconda3\\envs\\python3\\envs\\py37\\lib\\site-packages\\ipykernel_launcher.py:262: PerformanceWarning: DataFrame is highly fragmented.  This is usually the result of calling `frame.insert` many times, which has poor performance.  Consider joining all columns at once using pd.concat(axis=1) instead.  To get a de-fragmented frame, use `newframe = frame.copy()`\n"
     ]
    }
   ],
   "source": [
    "\n",
    "# 开始遍历数据中的每一段跟驰数据\n",
    "for id,group in data.groupby(\"trackId\"):\n",
    "    forehead_position = group[\"lonLaneletPos_lead\"].values\n",
    "    follower_position = group[\"lonLaneletPos\"].values\n",
    "    forhead_speed = group[\"lonVelocity_lead\"].values\n",
    "    space_headway = group[\"leadDHW\"].values #\n",
    "    follower_speed = group[\"lonVelocity\"].values\n",
    "    follower_acc = group[\"lonAcceleration\"].values\n",
    "\n",
    "\n",
    "    # try:\n",
    "    # IDM遗传算法\n",
    "    def function_idm(p):\n",
    "\n",
    "        x1,x2,x3,x4,x5,x6,x7 = p\n",
    "        Length_of_Car=x1\n",
    "        Maximum_Acc = x2  # 最大加速度\n",
    "        Comfortable_Dec =x3  # 舒适减速度\n",
    "        Desire_Spe=x4  # 期望速度\n",
    "        Desire_Spa_Tim =x5  # 期望车头时距\n",
    "        Minimum_Spa = x6  # 最短车头间距\n",
    "        Para_Beta = x7  # 加速度系数\n",
    "\n",
    "        simulated_spe = []\n",
    "        cur_sim_acc = []\n",
    "        simulate_headway = []\n",
    "        cur_sim_hea = space_headway[0]\n",
    "        cur_sim_spe = follower_speed[0]\n",
    "\n",
    "        for i in range(len(group)):\n",
    "\n",
    "            cur_forhead_spe = forhead_speed[i]\n",
    "            cur_head_space = space_headway[i]\n",
    "            cur_follower_speed = follower_speed[i]\n",
    "\n",
    "            try:\n",
    "                cur_des_spa = Minimum_Spa + cur_follower_speed * Desire_Spa_Tim + 0 * math.sqrt(cur_follower_speed / Desire_Spe) + \\\n",
    "                                (cur_follower_speed * (cur_follower_speed - cur_forhead_spe)) / (\n",
    "                                        2 * math.sqrt(Maximum_Acc * Comfortable_Dec))\n",
    "            except:\n",
    "                cur_des_spa=5\n",
    "\n",
    "            cur_follow_1_acc = Maximum_Acc * (1 - math.pow((cur_follower_speed / Desire_Spe), Para_Beta) -\n",
    "                                        math.pow(cur_des_spa / (cur_head_space - Length_of_Car),\n",
    "                                                2))\n",
    "\n",
    "            cur_sim_spe = cur_sim_spe + cur_follow_1_acc\n",
    "            cur_sim_hea = cur_sim_hea + cur_sim_spe\n",
    "\n",
    "            simulated_spe.append(cur_sim_spe)\n",
    "            simulate_headway.append(cur_sim_hea)\n",
    "            cur_sim_acc.append(cur_follow_1_acc)\n",
    "\n",
    "        abs_sum_1 = 0\n",
    "        for i in range(len(cur_sim_acc)):\n",
    "            abs_sum_1 += abs(cur_sim_acc[i])\n",
    "\n",
    "        abs_sum_2 = 0\n",
    "        for i in range(len(cur_sim_acc)):\n",
    "            abs_sum_2 += (cur_sim_acc[i] - follower_acc[i]) ** 2 / (abs(follower_acc[i]))\n",
    "\n",
    "        youhua = abs_sum_2 / abs_sum_1\n",
    "\n",
    "        return get_rmse(follower_acc,cur_sim_acc)\n",
    "\n",
    "\n",
    "    ga_idm= GA(func=function_idm, n_dim=7, max_iter=20, size_pop=20, lb=lb_x_idm, ub=ub_x_idm)\n",
    "\n",
    "    #得到最优的x和y\n",
    "    best_x_idm, best_y_idm = ga_idm.run()\n",
    "    cur_id_idm=\"%s,idm\"%id\n",
    "\n",
    "    #IDM模型拟合\n",
    "    def draw_picture_idm(p):\n",
    "\n",
    "        x1,x2,x3,x4,x5,x6,x7 = p\n",
    "        Length_of_Car=x1\n",
    "        Maximum_Acc = x2  # 最大加速度\n",
    "        Comfortable_Dec =x3  # 舒适减速度\n",
    "        Desire_Spe=x4  # 期望速度\n",
    "        Desire_Spa_Tim =x5  # 期望车头时距\n",
    "        Minimum_Spa = x6  # 最短车头间距\n",
    "        Para_Beta = x7  # 加速度系数\n",
    "\n",
    "        simulated_spe = []\n",
    "        cur_sim_acc = []\n",
    "        simulate_position = []\n",
    "        cur_sim_spe = follower_speed[0]\n",
    "        cur_simu_position = follower_position[0]\n",
    "\n",
    "        for i in range(len(group)):\n",
    "\n",
    "            cur_forhead_spe = forhead_speed[i]\n",
    "            cur_head_space = space_headway[i]\n",
    "            cur_follower_speed = follower_speed[i]\n",
    "\n",
    "            cur_des_spa = Minimum_Spa + cur_follower_speed * Desire_Spa_Tim + 0 * math.sqrt(cur_follower_speed / Desire_Spe) + \\\n",
    "                            (cur_follower_speed * (cur_follower_speed - cur_forhead_spe)) / (\n",
    "                                    2 * math.sqrt(Maximum_Acc * Comfortable_Dec))\n",
    "\n",
    "            cur_follow_1_acc = Maximum_Acc * (1 - math.pow((cur_follower_speed / Desire_Spe), Para_Beta) -\n",
    "                                        math.pow(cur_des_spa / (cur_head_space - Length_of_Car),\n",
    "                                                2))\n",
    "\n",
    "            simulated_spe.append(cur_sim_spe)\n",
    "            simulate_position.append(cur_simu_position)\n",
    "\n",
    "            cur_sim_spe = cur_sim_spe + cur_follow_1_acc*0.1\n",
    "            cur_simu_position = cur_simu_position + cur_sim_spe*0.1\n",
    "\n",
    "            cur_sim_acc.append(cur_follow_1_acc)\n",
    "\n",
    "        return simulated_spe,cur_sim_acc,simulate_position\n",
    "    \n",
    "    simulate_spe_idm,simulated_acc_idm, simulate_postion_idm= draw_picture_idm(best_x_idm)\n",
    "\n",
    "    #FVD遗传算法\n",
    "    def function_fvd(p):\n",
    "\n",
    "        x1,x2,x3,x4,x5,x6,x7 = p\n",
    "        # 期望速度\n",
    "        Desire_Spe = x1\n",
    "        # 常敏感性系数\n",
    "        Constant_Sensitivity_Coe = x2\n",
    "        # 相对速度差敏感性系数\n",
    "        Rel_Spe_Sen_Coe = x3\n",
    "        # beta，b系数\n",
    "        Para_Beta=x4\n",
    "        Para_b =x5\n",
    "        # 自由流与跟驰策略的间距阈值\n",
    "        Max_Fol_Dis = x6\n",
    "        # 有效的车长\n",
    "        Eff_veh_len = x7\n",
    "\n",
    "        simulated_spe = []\n",
    "        cur_sim_acc = []\n",
    "        simulate_headway = []\n",
    "        cur_sim_hea = space_headway[0]\n",
    "        cur_sim_spe = follower_speed[0]\n",
    "\n",
    "        for i in range(len(group)):\n",
    "\n",
    "            cur_forhead_spe = forhead_speed[i]\n",
    "            cur_head_space = space_headway[i]\n",
    "            cur_follower_speed = follower_speed[i]\n",
    "\n",
    "            # 后车参数的更新\n",
    "            if cur_head_space <= Max_Fol_Dis:\n",
    "                cur_Rel_Spe_Sen_Coe = Rel_Spe_Sen_Coe\n",
    "            else:\n",
    "                cur_Rel_Spe_Sen_Coe = 0\n",
    "\n",
    "            cur_bef_des_spe = (0.5 * Desire_Spe) * (\n",
    "                    math.tanh(((cur_head_space - Eff_veh_len) / Para_b - Para_Beta))\n",
    "                    - math.tanh(-Para_Beta))\n",
    "            cur_follow_1_acc = Constant_Sensitivity_Coe * (cur_bef_des_spe - cur_follower_speed) + cur_Rel_Spe_Sen_Coe * (cur_forhead_spe - cur_follower_speed)\n",
    "\n",
    "\n",
    "\n",
    "            cur_sim_spe = cur_sim_spe + cur_follow_1_acc\n",
    "            cur_sim_hea = cur_sim_hea + cur_sim_spe\n",
    "\n",
    "            simulated_spe.append(cur_sim_spe)\n",
    "            simulate_headway.append(cur_sim_hea)\n",
    "            cur_sim_acc.append(cur_follow_1_acc)\n",
    "\n",
    "        return get_rmse(follower_acc,cur_sim_acc)\n",
    "\n",
    "    ga_fvd= GA(func=function_fvd, n_dim=7, max_iter=20, size_pop=20, lb=lb_x_fvd, ub=ub_x_fvd)\n",
    "\n",
    "    #得到最优的x和y\n",
    "    best_x_fvd, best_y_fvd = ga_fvd.run()\n",
    "    cur_id_fvd=\"%s,fvd\"%id\n",
    "\n",
    "    def draw_picture_fvd(p):\n",
    "\n",
    "        x1,x2,x3,x4,x5,x6,x7 = p\n",
    "        # 期望速度\n",
    "        Desire_Spe = x1\n",
    "        # 常敏感性系数\n",
    "        Constant_Sensitivity_Coe = x2\n",
    "        # 相对速度差敏感性系数\n",
    "        Rel_Spe_Sen_Coe = x3\n",
    "        # beta，b系数\n",
    "        Para_Beta=x4\n",
    "        Para_b =x5\n",
    "        # 自由流与跟驰策略的间距阈值\n",
    "        Max_Fol_Dis = x6\n",
    "        # 有效的车长\n",
    "        Eff_veh_len = x7\n",
    "\n",
    "        simulated_spe = []\n",
    "        cur_sim_acc = []\n",
    "        simulate_position = []\n",
    "        cur_sim_spe = follower_speed[0]\n",
    "        cur_simu_position=follower_position[0]\n",
    "\n",
    "        for i in range(len(group)):\n",
    "\n",
    "            cur_forhead_spe = forhead_speed[i]\n",
    "            cur_head_space = space_headway[i]\n",
    "            cur_follower_speed = follower_speed[i]\n",
    "\n",
    "            # 后车参数的更新\n",
    "            if cur_head_space <= Max_Fol_Dis:\n",
    "                cur_Rel_Spe_Sen_Coe = Rel_Spe_Sen_Coe\n",
    "            else:\n",
    "                cur_Rel_Spe_Sen_Coe = 0\n",
    "\n",
    "            cur_bef_des_spe = (0.5 * Desire_Spe) * (\n",
    "                    math.tanh(((cur_head_space - Eff_veh_len) / Para_b - Para_Beta))\n",
    "                    - math.tanh(-Para_Beta))\n",
    "            cur_follow_1_acc = Constant_Sensitivity_Coe * (cur_bef_des_spe - cur_follower_speed) + cur_Rel_Spe_Sen_Coe * (cur_forhead_spe - cur_follower_speed)\n",
    "\n",
    "            simulated_spe.append(cur_sim_spe)\n",
    "            simulate_position.append(cur_simu_position)\n",
    "\n",
    "            cur_sim_spe = cur_sim_spe + cur_follow_1_acc*0.1\n",
    "            cur_simu_position = cur_simu_position + cur_sim_spe*0.1\n",
    "\n",
    "            cur_sim_acc.append(cur_follow_1_acc)\n",
    "\n",
    "        return simulated_spe,cur_sim_acc,simulate_position\n",
    "\n",
    "    simulate_spe_fvd,simulated_acc_fvd, simulate_postion_fvd= draw_picture_fvd(best_x_fvd)\n",
    "\n",
    "    # ________________________________________________________________________________输出\n",
    "\n",
    "    cur_id_sim_acc_fvd = \"%s,simulate_acc\" % cur_id_fvd\n",
    "    cur_id_sim_spe_fvd = \"%s,simulate_spe\" % cur_id_fvd\n",
    "    cur_id_sim_follower_position_fvd = \"%s,sim_follower_poi\" % cur_id_fvd\n",
    "\n",
    "    cur_id_sim_acc_idm=\"%s,simulate_acc\"%cur_id_idm\n",
    "    cur_id_tru_acc_idm=\"%s,true_acc\"%cur_id_idm\n",
    "    cur_id_tru_spe_idm=\"%s,true_spe\"%cur_id_idm\n",
    "    cur_id_sim_spe_idm=\"%s,simulate_spe\"%cur_id_idm\n",
    "    cur_id_tru_follower_position_idm=\"%s,true_follower_poi\"%cur_id_idm\n",
    "    cur_id_sim_follower_position_idm=\"%s,sim_follower_poi\"%cur_id_idm\n",
    "    cur_id_tru_forehead_position_idm=\"%s,leader_poi\"%cur_id_idm\n",
    "\n",
    "    # 导出\n",
    "    cur_pd_id=pd.DataFrame()\n",
    "    # 加速度\n",
    "    cur_pd_id[cur_id_tru_acc_idm]=follower_acc\n",
    "    cur_pd_id[cur_id_sim_acc_idm]=simulated_acc_idm\n",
    "    cur_pd_id[cur_id_sim_acc_fvd]=simulated_acc_fvd\n",
    "\n",
    "    # 速度\n",
    "    cur_pd_id[cur_id_tru_spe_idm]=follower_speed\n",
    "    cur_pd_id[cur_id_sim_spe_idm]=simulate_spe_idm\n",
    "    cur_pd_id[cur_id_sim_spe_fvd]=simulate_spe_fvd\n",
    "\n",
    "    cur_pd_id[cur_id_tru_forehead_position_idm]=forehead_position\n",
    "    cur_pd_id[cur_id_tru_follower_position_idm]=follower_position\n",
    "    cur_pd_id[cur_id_sim_follower_position_idm]=simulate_postion_idm\n",
    "    cur_pd_id[cur_id_sim_follower_position_fvd]=simulate_postion_fvd\n",
    "\n",
    "\n",
    "    final_parameter_idm[cur_id_idm]=best_x_idm\n",
    "    final_loss_idm[cur_id_idm]=best_y_idm\n",
    "    final_parameter_fvd[cur_id_fvd]=best_x_fvd\n",
    "    final_loss_fvd[cur_id_fvd]=best_y_fvd\n",
    "\n",
    "    simulate_data = pd.concat([cur_pd_id,simulate_data],axis=1)\n",
    "\n",
    "    # except:\n",
    "    #     \"\"\n"
   ]
  },
  {
   "cell_type": "code",
   "execution_count": null,
   "metadata": {},
   "outputs": [],
   "source": []
  },
  {
   "cell_type": "markdown",
   "metadata": {},
   "source": [
    "#### 参数"
   ]
  },
  {
   "cell_type": "markdown",
   "metadata": {},
   "source": [
    "筛选平滑最小的loss"
   ]
  },
  {
   "cell_type": "markdown",
   "metadata": {},
   "source": [
    "##### IDM\n",
    "$$\n",
    "\\dot v_a (s_e,v_e,\\triangle v_e) = a[1-(\\frac{v_e}{v_0})^{\\delta} -(\\frac{s^*(v_e,\\triangle v_e)}{s_e})^2 ] \\\\\n",
    "s^*(v_e,\\triangle v_e) = s_0 + \\max (v_e T+\\frac{v_e \\triangle v_e}{2\\sqrt{ab}}, 0)\n",
    "$$"
   ]
  },
  {
   "cell_type": "code",
   "execution_count": 66,
   "metadata": {},
   "outputs": [
    {
     "data": {
      "text/plain": [
       "array([[4.57058741, 4.31251026, 4.47336461, ..., 4.23175163, 4.54167254,\n",
       "        4.03990382],\n",
       "       [3.93529338, 3.02094813, 4.37059691, ..., 3.1677464 , 3.39729365,\n",
       "        4.35630245],\n",
       "       [4.40665579, 9.161168  , 8.38189123, ..., 8.60097049, 7.70819559,\n",
       "        8.91431598],\n",
       "       ...,\n",
       "       [1.84847538, 1.44500342, 0.22766068, ..., 0.52006503, 2.8915914 ,\n",
       "        0.61494451],\n",
       "       [0.19121092, 1.66594408, 6.4352249 , ..., 1.27593413, 0.61728671,\n",
       "        1.03440492],\n",
       "       [0.10882732, 0.59309864, 0.35411242, ..., 6.66424812, 0.14842806,\n",
       "        0.60422951]])"
      ]
     },
     "execution_count": 66,
     "metadata": {},
     "output_type": "execute_result"
    }
   ],
   "source": [
    "loss_idm_list = final_loss_idm.values\n",
    "parameter_idm_list = final_parameter_idm.values\n",
    "# parameter_idm_list\n",
    "which_min_idm = np.argmin(loss_idm_list)\n",
    "print('IDM模型最优参数为：', parameter_idm_list[:,which_min_idm])"
   ]
  },
  {
   "cell_type": "code",
   "execution_count": 73,
   "metadata": {},
   "outputs": [
    {
     "name": "stdout",
     "output_type": "stream",
     "text": [
      "57\n"
     ]
    }
   ],
   "source": [
    "min_loss_iter_idm = [i for i in range(len(loss_idm_list[0])) if loss_idm_list[0][i] < 0.1]\n",
    "print(len(min_loss_iter_idm))\n",
    "# Length_of_Car=x1\n",
    "# Maximum_Acc = x2  # 最大加速度\n",
    "# Comfortable_Dec =x3  # 舒适减速度\n",
    "# Desire_Spe=x4  # 期望速度\n",
    "# Desire_Spa_Tim =x5  # 期望车头时距\n",
    "# Minimum_Spa = x6  # 最短车头间距\n",
    "# Para_Beta = x7  # 加速度系数\n",
    "Length_of_Car_list = parameter_idm_list[0][min_loss_iter_idm]\n",
    "Maximum_Acc_list = parameter_idm_list[1][min_loss_iter_idm]\n",
    "Comfortable_Dec_list = parameter_idm_list[2][min_loss_iter_idm]\n",
    "Desire_Spe_list = parameter_idm_list[3][min_loss_iter_idm]\n",
    "Desire_Spa_Tim_list = parameter_idm_list[4][min_loss_iter_idm]\n",
    "Minimum_Spa_list = parameter_idm_list[5][min_loss_iter_idm]\n",
    "Para_Beta_list = parameter_idm_list[6][min_loss_iter_idm]\n"
   ]
  },
  {
   "cell_type": "code",
   "execution_count": 75,
   "metadata": {},
   "outputs": [
    {
     "name": "stdout",
     "output_type": "stream",
     "text": [
      "[3.23086116 4.2279162  3.42745263 3.78000576 5.40748856 3.15719295\n",
      " 3.12201905 3.19210644 3.87140003 4.16458179 3.63720883 6.82712094\n",
      " 4.55290256 3.49194381 3.33004985 5.58765999 3.28710336 4.40075172\n",
      " 3.21861561 4.7889675  3.23347102 7.2949026  3.23146525 4.20399663\n",
      " 3.29160537 3.07168181 6.52017125 6.53870412 3.49150214 4.25524851\n",
      " 4.98198642 3.80816851 5.36559283 5.17086378 4.02625379 3.6547247\n",
      " 3.39326951 3.96018033 3.13460174 3.48728944 3.42837553 4.62056061\n",
      " 3.06696239 3.28032296 3.04455634 7.41272161 4.48173357 3.48094005\n",
      " 4.36932174 3.16095072 6.49747223 3.07880941 5.76951988 3.64346754\n",
      " 4.68267767 6.24452308 3.2738867 ]\n"
     ]
    }
   ],
   "source": [
    "#a\n",
    "print(Maximum_Acc_list)"
   ]
  },
  {
   "cell_type": "code",
   "execution_count": 76,
   "metadata": {},
   "outputs": [
    {
     "name": "stdout",
     "output_type": "stream",
     "text": [
      "[9.07941105 9.83875605 4.12823785 5.55881094 5.07820173 9.82240969\n",
      " 5.14220675 4.41872368 9.29149546 9.70948359 6.43358911 7.79238057\n",
      " 4.80889319 7.2211632  6.83496909 5.5201292  8.73306731 7.66024816\n",
      " 9.13200237 7.90326953 4.01301014 9.44467937 4.5845964  7.23104115\n",
      " 8.42004011 7.98126209 4.22940666 7.77904588 9.80183071 4.64536552\n",
      " 9.95083296 8.79529805 5.18346234 6.83581944 8.14150414 6.34206346\n",
      " 6.39052374 8.00486758 8.9723867  5.10585378 9.75445887 5.73799869\n",
      " 8.95860855 8.78628529 4.04791132 5.14333524 9.11871301 4.28603524\n",
      " 4.91531913 4.51428122 4.93122212 4.46045894 4.52634079 5.37919887\n",
      " 6.89427702 4.7076735  9.18008982]\n"
     ]
    }
   ],
   "source": [
    "#b\n",
    "print(Comfortable_Dec_list)"
   ]
  },
  {
   "cell_type": "markdown",
   "metadata": {},
   "source": [
    "以上结果可知，模型拟合较为不稳定、不收敛，损失非凸，难以找到最优解"
   ]
  },
  {
   "cell_type": "code",
   "execution_count": null,
   "metadata": {},
   "outputs": [],
   "source": []
  },
  {
   "cell_type": "markdown",
   "metadata": {},
   "source": [
    "#### FVD"
   ]
  },
  {
   "cell_type": "markdown",
   "metadata": {},
   "source": [
    "$$\n",
    "\\frac{dv_{n+1}}{dt}=k[V(s)-v_{n+1}(t)] + \\lambda \\triangle v\n",
    "$$"
   ]
  },
  {
   "cell_type": "code",
   "execution_count": 77,
   "metadata": {},
   "outputs": [
    {
     "name": "stdout",
     "output_type": "stream",
     "text": [
      "IDM模型最优参数为： [27.38265759  1.27786614  3.12147688  7.17909327  2.28911132 22.19039713\n",
      "  5.14566657]\n"
     ]
    }
   ],
   "source": [
    "loss_fvd_list = final_loss_fvd.values\n",
    "parameter_fvd_list = final_parameter_fvd.values\n",
    "# parameter_idm_list\n",
    "which_min_fvd = np.argmin(loss_fvd_list)\n",
    "print('FVD模型最优参数为：', parameter_fvd_list[:,which_min_fvd])"
   ]
  },
  {
   "cell_type": "code",
   "execution_count": 78,
   "metadata": {},
   "outputs": [
    {
     "name": "stdout",
     "output_type": "stream",
     "text": [
      "40\n"
     ]
    }
   ],
   "source": [
    "min_loss_iter_fvd = [i for i in range(len(loss_fvd_list[0])) if loss_fvd_list[0][i] < 0.1]\n",
    "print(len(min_loss_iter_fvd))\n",
    "    # # 期望速度\n",
    "    # Desire_Spe = x1\n",
    "    #     # 常敏感性系数\n",
    "    # Constant_Sensitivity_Coe = x2\n",
    "    # # 相对速度差敏感性系数\n",
    "    # Rel_Spe_Sen_Coe = x3\n",
    "    # # beta，b系数\n",
    "    # Para_Beta=x4\n",
    "    # Para_b =x5\n",
    "    # # 自由流与跟驰策略的间距阈值\n",
    "    # Max_Fol_Dis = x6\n",
    "    # # 有效的车长\n",
    "    # Eff_veh_len = x7\n",
    "Desire_Spe_list = parameter_fvd_list[0][min_loss_iter_fvd]\n",
    "Constant_Sensitivity_Coe_list = parameter_fvd_list[1][min_loss_iter_fvd]\n",
    "Max_Fol_Dis_list = parameter_fvd_list[5][min_loss_iter_fvd]"
   ]
  },
  {
   "cell_type": "code",
   "execution_count": 79,
   "metadata": {},
   "outputs": [
    {
     "name": "stdout",
     "output_type": "stream",
     "text": [
      "[29.32796336 28.98559846 28.97150792 24.13216574 23.31633379 24.36935572\n",
      " 29.00811046 25.47440095 27.38265759 25.66223322 21.58557978 24.78488302\n",
      " 25.87814195 25.02616441 27.27827831 24.5565263  22.14295958 28.1507565\n",
      " 26.94358899 26.34820765 29.56686839 26.18586025 21.10947136 24.68950769\n",
      " 29.88835461 22.63433275 27.32982582 26.64564377 27.66063727 24.55670899\n",
      " 23.35599159 27.56748154 27.32063687 28.44192624 27.04394623 22.56821361\n",
      " 28.33750516 29.46728751 28.05289201 24.88627007]\n"
     ]
    }
   ],
   "source": [
    "print(Desire_Spe_list)"
   ]
  },
  {
   "cell_type": "code",
   "execution_count": 80,
   "metadata": {},
   "outputs": [
    {
     "name": "stdout",
     "output_type": "stream",
     "text": [
      "[29.32796336 28.98559846 28.97150792 24.13216574 23.31633379 24.36935572\n",
      " 29.00811046 25.47440095 27.38265759 25.66223322 21.58557978 24.78488302\n",
      " 25.87814195 25.02616441 27.27827831 24.5565263  22.14295958 28.1507565\n",
      " 26.94358899 26.34820765 29.56686839 26.18586025 21.10947136 24.68950769\n",
      " 29.88835461 22.63433275 27.32982582 26.64564377 27.66063727 24.55670899\n",
      " 23.35599159 27.56748154 27.32063687 28.44192624 27.04394623 22.56821361\n",
      " 28.33750516 29.46728751 28.05289201 24.88627007]\n"
     ]
    }
   ],
   "source": [
    "print(Desire_Spe_list)"
   ]
  },
  {
   "cell_type": "code",
   "execution_count": 81,
   "metadata": {},
   "outputs": [
    {
     "name": "stdout",
     "output_type": "stream",
     "text": [
      "[26.5268848  36.75662021 32.60126689 28.20270209 15.61198657 12.77834807\n",
      " 12.90140137 37.93372155 22.19039713 25.16555744 23.58437343 34.4756741\n",
      " 34.56617703 29.16354748 19.3927802  34.41944594 32.3211426  33.37756255\n",
      " 35.75931546  9.08555042 28.46956043 14.10277025 38.82855107 13.21285545\n",
      " 13.37234053 14.59076926  7.02090159 30.52233907 47.42736576 35.08692849\n",
      " 48.92564948 11.45651138 48.40187139 19.30713316  5.87113338 22.48975656\n",
      " 22.37698174 32.39989938 27.47541416 18.29725188]\n"
     ]
    }
   ],
   "source": [
    "print(Max_Fol_Dis_list)"
   ]
  },
  {
   "cell_type": "code",
   "execution_count": null,
   "metadata": {},
   "outputs": [],
   "source": []
  },
  {
   "cell_type": "markdown",
   "metadata": {},
   "source": [
    "#### 分布检验"
   ]
  },
  {
   "cell_type": "code",
   "execution_count": 93,
   "metadata": {},
   "outputs": [
    {
     "data": {
      "text/plain": [
       "(486, 13460)"
      ]
     },
     "execution_count": 93,
     "metadata": {},
     "output_type": "execute_result"
    }
   ],
   "source": [
    "simulate_data.shape"
   ]
  },
  {
   "cell_type": "code",
   "execution_count": 100,
   "metadata": {},
   "outputs": [
    {
     "data": {
      "text/plain": [
       "0    0.4521\n",
       "1    0.4519\n",
       "2    0.4510\n",
       "3    0.4491\n",
       "4    0.4460\n",
       "5    0.4417\n",
       "6    0.4361\n",
       "7    0.4291\n",
       "8    0.4206\n",
       "9    0.4106\n",
       "Name: 3,idm,true_acc, dtype: float64"
      ]
     },
     "execution_count": 100,
     "metadata": {},
     "output_type": "execute_result"
    }
   ],
   "source": [
    "simulate_data[0:10]['3,idm,true_acc']"
   ]
  },
  {
   "cell_type": "markdown",
   "metadata": {},
   "source": [
    "分布提取：前10s"
   ]
  },
  {
   "cell_type": "code",
   "execution_count": 102,
   "metadata": {},
   "outputs": [
    {
     "name": "stdout",
     "output_type": "stream",
     "text": [
      "13430 13430\n"
     ]
    }
   ],
   "source": [
    "# col_list = [i for i in range(3,1400)]\n",
    "spd_true, spd_idm, spd_fvd = [], [], []\n",
    "acc_true, acc_idm, acc_fvd = [], [], []\n",
    "\n",
    "for i in range(3,1400):\n",
    "    col_true_spe = '%s,idm,true_spe' % i\n",
    "    col_idm_spe = '%s,idm,simulate_spe' % i\n",
    "    col_fvd_spe = '%s,fvd,simulate_spe' % i\n",
    "    col_true_acc = '%s,idm,true_acc' % i\n",
    "    col_idm_acc = '%s,idm,simulate_acc' % i\n",
    "    col_fvd_acc = '%s,fvd,simulate_acc' % i\n",
    "\n",
    "    try: \n",
    "        spd_true.extend(simulate_data[0:10][col_true_spe])\n",
    "        spd_idm.extend(simulate_data[0:10][col_idm_spe])\n",
    "        spd_fvd.extend(simulate_data[0:10][col_fvd_spe])\n",
    "        acc_true.extend(simulate_data[0:10][col_true_acc])\n",
    "        acc_idm.extend(simulate_data[0:10][col_idm_acc])\n",
    "        acc_fvd.extend(simulate_data[0:10][col_fvd_acc])\n",
    "    except:\n",
    "        continue\n",
    "\n",
    "print(len(spd_true), len(acc_true))"
   ]
  },
  {
   "cell_type": "code",
   "execution_count": 109,
   "metadata": {},
   "outputs": [
    {
     "name": "stdout",
     "output_type": "stream",
     "text": [
      "13430 13430\n"
     ]
    }
   ],
   "source": [
    "print(len(spd_idm), len(spd_fvd))"
   ]
  },
  {
   "cell_type": "markdown",
   "metadata": {},
   "source": [
    "分布一致性检验：\n",
    "- 速度\n",
    "- 加速度"
   ]
  },
  {
   "cell_type": "code",
   "execution_count": 120,
   "metadata": {},
   "outputs": [
    {
     "data": {
      "text/plain": [
       "count     13417.000000\n",
       "mean       -110.144522\n",
       "std        6782.446633\n",
       "min     -384808.619902\n",
       "25%          22.884100\n",
       "50%          25.238451\n",
       "75%          27.983738\n",
       "max          41.112500\n",
       "dtype: float64"
      ]
     },
     "execution_count": 120,
     "metadata": {},
     "output_type": "execute_result"
    }
   ],
   "source": [
    "pd.Series(spd_idm).describe()"
   ]
  },
  {
   "cell_type": "code",
   "execution_count": 123,
   "metadata": {},
   "outputs": [
    {
     "name": "stdout",
     "output_type": "stream",
     "text": [
      "13200\n"
     ]
    }
   ],
   "source": [
    "spd_idm_scale = [v for v in spd_idm if v > 0]\n",
    "print(len(spd_idm_scale))"
   ]
  },
  {
   "cell_type": "code",
   "execution_count": 130,
   "metadata": {},
   "outputs": [
    {
     "data": {
      "text/plain": [
       "count    1.341700e+04\n",
       "mean    -2.957652e+02\n",
       "std      2.027504e+04\n",
       "min     -1.993383e+06\n",
       "25%     -1.388939e+00\n",
       "50%     -2.193071e-01\n",
       "75%      2.658060e-01\n",
       "max      3.665796e+00\n",
       "dtype: float64"
      ]
     },
     "execution_count": 130,
     "metadata": {},
     "output_type": "execute_result"
    }
   ],
   "source": [
    "pd.Series(acc_idm).describe()"
   ]
  },
  {
   "cell_type": "code",
   "execution_count": 132,
   "metadata": {},
   "outputs": [
    {
     "data": {
      "text/plain": [
       "count    13417.000000\n",
       "mean        -0.140000\n",
       "std          2.865412\n",
       "min        -66.932937\n",
       "25%         -0.543240\n",
       "50%          0.112113\n",
       "75%          0.615487\n",
       "max         42.140038\n",
       "dtype: float64"
      ]
     },
     "execution_count": 132,
     "metadata": {},
     "output_type": "execute_result"
    }
   ],
   "source": [
    "pd.Series(acc_fvd).describe()"
   ]
  },
  {
   "cell_type": "code",
   "execution_count": 136,
   "metadata": {},
   "outputs": [
    {
     "name": "stdout",
     "output_type": "stream",
     "text": [
      "12886\n",
      "13403\n"
     ]
    }
   ],
   "source": [
    "acc_idm_scale = [a for a in acc_idm if a > -20]\n",
    "print(len(acc_idm_scale))\n",
    "acc_fvd_scale = [a for a in acc_fvd if a > -20]\n",
    "print(len(acc_fvd_scale))"
   ]
  },
  {
   "cell_type": "code",
   "execution_count": 138,
   "metadata": {},
   "outputs": [
    {
     "data": {
      "text/plain": [
       "Text(0.5, 1.0, 'Acc Distribution')"
      ]
     },
     "execution_count": 138,
     "metadata": {},
     "output_type": "execute_result"
    },
    {
     "data": {
      "image/png": "[encoded data removed]",
      "text/plain": [
       "<Figure size 1400x500 with 2 Axes>"
      ]
     },
     "metadata": {},
     "output_type": "display_data"
    }
   ],
   "source": [
    "#密度估计\n",
    "plt.figure(figsize=(14, 5))\n",
    "# plt.figure(1)\n",
    "ax1 = plt.subplot(121)\n",
    "ax1.hist(spd_true, bins=100, alpha=0.5, label='true', color='red', density=True)\n",
    "ax1.hist(spd_idm_scale, bins=100, alpha=0.5, label='idm', color='green', density=True)\n",
    "ax1.hist(spd_fvd, bins=100, alpha=0.5, label='fvd', color='blue', density=True)\n",
    "# ax1.xlim(10, 45)\n",
    "ax1.legend()\n",
    "ax1.set_title('Speed Distribution')\n",
    "# ax1.show()\n",
    "\n",
    "ax2 = plt.subplot(122)\n",
    "ax2.hist(acc_true, bins=100, alpha=0.5, label='true', color='red', density=True)\n",
    "ax2.hist(acc_idm_scale, bins=100, alpha=0.5, label='idm', color='green', density=True)\n",
    "ax2.hist(acc_fvd_scale, bins=100, alpha=0.5, label='fvd', color='blue', density=True)\n",
    "ax2.set_xlim(-15, 10)\n",
    "ax2.legend()\n",
    "ax2.set_title('Acc Distribution')"
   ]
  },
  {
   "cell_type": "code",
   "execution_count": null,
   "metadata": {},
   "outputs": [],
   "source": []
  },
  {
   "cell_type": "code",
   "execution_count": null,
   "metadata": {},
   "outputs": [],
   "source": []
  },
  {
   "cell_type": "code",
   "execution_count": null,
   "metadata": {},
   "outputs": [],
   "source": []
  },
  {
   "cell_type": "markdown",
   "metadata": {},
   "source": [
    "#### 存储"
   ]
  },
  {
   "cell_type": "code",
   "execution_count": 60,
   "metadata": {},
   "outputs": [
    {
     "name": "stdout",
     "output_type": "stream",
     "text": [
      "Collecting openpyxl\n",
      "  Downloading openpyxl-3.1.2-py2.py3-none-any.whl (249 kB)\n",
      "     -------------------------------------- 250.0/250.0 kB 2.2 MB/s eta 0:00:00\n",
      "Collecting et-xmlfile (from openpyxl)\n",
      "  Downloading et_xmlfile-1.1.0-py3-none-any.whl (4.7 kB)\n",
      "Installing collected packages: et-xmlfile, openpyxl\n",
      "Successfully installed et-xmlfile-1.1.0 openpyxl-3.1.2\n"
     ]
    }
   ],
   "source": [
    "!pip install openpyxl"
   ]
  },
  {
   "cell_type": "code",
   "execution_count": 61,
   "metadata": {},
   "outputs": [],
   "source": [
    "\n",
    "writer = pd.ExcelWriter('D:/Desktop/开题/code/exiD/data/00_tracks_sim.xlsx')\n",
    "simulate_data.to_excel(writer,sheet_name=\"simulate_data\")\n",
    "final_parameter_idm.to_excel(writer,sheet_name=\"final_parameter_idm\")\n",
    "final_parameter_fvd.to_excel(writer,sheet_name=\"final_parameter_fvd\")\n",
    "final_loss_fvd.to_excel(writer,sheet_name=\"final_loss_fvd\")\n",
    "final_loss_idm.to_excel(writer,sheet_name=\"final_loss_idm\")\n",
    "\n",
    "writer.save()"
   ]
  },
  {
   "cell_type": "code",
   "execution_count": null,
   "metadata": {},
   "outputs": [],
   "source": []
  },
  {
   "cell_type": "markdown",
   "metadata": {},
   "source": [
    "#### SGD优化\n",
    "TODO..."
   ]
  },
  {
   "cell_type": "code",
   "execution_count": null,
   "metadata": {},
   "outputs": [],
   "source": []
  },
  {
   "cell_type": "code",
   "execution_count": null,
   "metadata": {},
   "outputs": [],
   "source": []
  },
  {
   "cell_type": "code",
   "execution_count": null,
   "metadata": {},
   "outputs": [],
   "source": []
  },
  {
   "cell_type": "code",
   "execution_count": null,
   "metadata": {},
   "outputs": [],
   "source": []
  },
  {
   "cell_type": "markdown",
   "metadata": {},
   "source": [
    "## 换道模型"
   ]
  },
  {
   "cell_type": "code",
   "execution_count": null,
   "metadata": {},
   "outputs": [],
   "source": []
  },
  {
   "cell_type": "code",
   "execution_count": null,
   "metadata": {},
   "outputs": [],
   "source": []
  },
  {
   "cell_type": "code",
   "execution_count": null,
   "metadata": {},
   "outputs": [],
   "source": []
  },
  {
   "cell_type": "code",
   "execution_count": null,
   "metadata": {},
   "outputs": [],
   "source": []
  },
  {
   "cell_type": "code",
   "execution_count": null,
   "metadata": {},
   "outputs": [],
   "source": []
  },
  {
   "cell_type": "code",
   "execution_count": null,
   "metadata": {},
   "outputs": [],
   "source": []
  },
  {
   "cell_type": "markdown",
   "metadata": {},
   "source": [
    "## 一维机器学习\n",
    "\n",
    "考虑纵向序列建模"
   ]
  },
  {
   "cell_type": "markdown",
   "metadata": {},
   "source": [
    "### GRU"
   ]
  },
  {
   "cell_type": "code",
   "execution_count": null,
   "metadata": {},
   "outputs": [],
   "source": []
  },
  {
   "cell_type": "code",
   "execution_count": null,
   "metadata": {},
   "outputs": [],
   "source": []
  },
  {
   "cell_type": "code",
   "execution_count": null,
   "metadata": {},
   "outputs": [],
   "source": []
  },
  {
   "cell_type": "code",
   "execution_count": null,
   "metadata": {},
   "outputs": [],
   "source": []
  },
  {
   "cell_type": "code",
   "execution_count": null,
   "metadata": {},
   "outputs": [],
   "source": []
  },
  {
   "cell_type": "markdown",
   "metadata": {},
   "source": [
    "### Transformer"
   ]
  },
  {
   "cell_type": "code",
   "execution_count": null,
   "metadata": {},
   "outputs": [],
   "source": []
  },
  {
   "cell_type": "code",
   "execution_count": null,
   "metadata": {},
   "outputs": [],
   "source": []
  },
  {
   "cell_type": "code",
   "execution_count": null,
   "metadata": {},
   "outputs": [],
   "source": []
  },
  {
   "cell_type": "code",
   "execution_count": null,
   "metadata": {},
   "outputs": [],
   "source": []
  },
  {
   "cell_type": "markdown",
   "metadata": {},
   "source": [
    "## 二维"
   ]
  },
  {
   "cell_type": "code",
   "execution_count": null,
   "metadata": {},
   "outputs": [],
   "source": []
  },
  {
   "cell_type": "markdown",
   "metadata": {},
   "source": [
    "### GNN\n",
    "- VectorNet: polyline representation\n",
    "- TrafficSim"
   ]
  },
  {
   "cell_type": "code",
   "execution_count": null,
   "metadata": {},
   "outputs": [],
   "source": []
  },
  {
   "cell_type": "markdown",
   "metadata": {},
   "source": [
    "### Transformer\n",
    "Map encoder + motion encoder\n",
    "- MTR\n",
    "- Wayformer"
   ]
  },
  {
   "cell_type": "code",
   "execution_count": null,
   "metadata": {},
   "outputs": [],
   "source": []
  },
  {
   "cell_type": "code",
   "execution_count": null,
   "metadata": {},
   "outputs": [],
   "source": []
  },
  {
   "cell_type": "code",
   "execution_count": null,
   "metadata": {},
   "outputs": [],
   "source": []
  },
  {
   "cell_type": "code",
   "execution_count": null,
   "metadata": {},
   "outputs": [],
   "source": []
  },
  {
   "cell_type": "code",
   "execution_count": null,
   "metadata": {},
   "outputs": [],
   "source": []
  }
 ],
 "metadata": {
  "kernelspec": {
   "display_name": "Python 3",
   "language": "python",
   "name": "python3"
  },
  "language_info": {
   "codemirror_mode": {
    "name": "ipython",
    "version": 3
   },
   "file_extension": ".py",
   "mimetype": "text/x-python",
   "name": "python",
   "nbconvert_exporter": "python",
   "pygments_lexer": "ipython3",
   "version": "3.7.13"
  },
  "orig_nbformat": 4
 },
 "nbformat": 4,
 "nbformat_minor": 2
}
